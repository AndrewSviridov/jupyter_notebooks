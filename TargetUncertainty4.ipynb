{
 "cells": [
  {
   "cell_type": "markdown",
   "metadata": {},
   "source": [
    "# Basic Data analyses"
   ]
  },
  {
   "cell_type": "markdown",
   "metadata": {},
   "source": [
    "## Load in the data"
   ]
  },
  {
   "cell_type": "code",
   "execution_count": 25,
   "metadata": {
    "collapsed": false
   },
   "outputs": [],
   "source": [
    "import numpy as np, sys, scipy.stats, pandas as pd, os, os.path, csv, PythonAnalyses\n",
    "\n",
    "import matplotlib\n",
    "import matplotlib.pyplot as plt\n",
    "import pylab as pl\n",
    "%matplotlib inline\n",
    "pd.options.display.mpl_style = 'default'\n",
    "\n",
    "Start = 1 #if I want to reload data from csvs = 1. If i want to load python pickle == 0\n",
    "\n",
    "filename = 'AdditionalSingleton_TargetUncertain_Freq.csv'\n",
    "csvName = 'AdditionalSingleton_TargetUncertain_Freq'\n",
    "\n",
    "if sys.platform == 'linux2': #is this my linux laptop\n",
    "    path = '/home/dan/Dropbox/TargetUncertainty/Exp4'\n",
    "elif sys.platform == 'darwin': #is this my mac work comp    \n",
    "    path = '/Users/danvatterott/Dropbox Encore/Dropbox/TargetUncertainty/Exp4/'\n",
    "\n",
    "os.chdir(path)\n",
    "\n",
    "if Start == 1: #load in data from csv\n",
    "    numfiles = len([name for name in os.listdir('.') if os.path.isfile(name) and name.endswith(\".csv\") and name[0].isdigit()])\n",
    "    for partnum in xrange(1,numfiles+1): #this is a loop that goes through all participants\n",
    "        filename = '%s_' % str(partnum) + csvName + '.csv'\n",
    "        if partnum == 1: \n",
    "            df = pd.read_csv(filename)\n",
    "        if partnum > 1: \n",
    "            df = df.append(pd.read_csv(filename))\n",
    "    df.columns = map(str.lstrip, df.columns)\n",
    "    df.to_pickle(csvName+'.pkl') #save this data frame all together\n",
    "elif Start == 0: #load the data from a previously saved python file. should save time if not adding csv data. \n",
    "    df = pd.read_pickle(csvName+'.pkl')"
   ]
  },
  {
   "cell_type": "code",
   "execution_count": 26,
   "metadata": {
    "collapsed": false
   },
   "outputs": [
    {
     "data": {
      "text/html": [
       "<div style=\"max-height:1000px;max-width:1500px;overflow:auto;\">\n",
       "<table border=\"1\" class=\"dataframe\">\n",
       "  <thead>\n",
       "    <tr style=\"text-align: right;\">\n",
       "      <th></th>\n",
       "      <th>TarType</th>\n",
       "      <th>TarLoc</th>\n",
       "      <th>TarColorCode</th>\n",
       "      <th>DistCond</th>\n",
       "      <th>TarDistDist</th>\n",
       "      <th>DistLoc</th>\n",
       "      <th>DistLine</th>\n",
       "      <th>Resp</th>\n",
       "      <th>Block</th>\n",
       "      <th>ColorFreq</th>\n",
       "      <th>ChangeCounter</th>\n",
       "      <th>Acc</th>\n",
       "      <th>RT</th>\n",
       "      <th>Sub#</th>\n",
       "    </tr>\n",
       "  </thead>\n",
       "  <tbody>\n",
       "    <tr>\n",
       "      <th>0</th>\n",
       "      <td>2</td>\n",
       "      <td>1</td>\n",
       "      <td>4</td>\n",
       "      <td>2</td>\n",
       "      <td>2</td>\n",
       "      <td>3</td>\n",
       "      <td>2</td>\n",
       "      <td>0</td>\n",
       "      <td>0</td>\n",
       "      <td>1</td>\n",
       "      <td>0</td>\n",
       "      <td>0</td>\n",
       "      <td>2000.0000</td>\n",
       "      <td>1</td>\n",
       "    </tr>\n",
       "    <tr>\n",
       "      <th>1</th>\n",
       "      <td>2</td>\n",
       "      <td>2</td>\n",
       "      <td>2</td>\n",
       "      <td>1</td>\n",
       "      <td>0</td>\n",
       "      <td>0</td>\n",
       "      <td>0</td>\n",
       "      <td>3</td>\n",
       "      <td>0</td>\n",
       "      <td>2</td>\n",
       "      <td>0</td>\n",
       "      <td>0</td>\n",
       "      <td>350.4923</td>\n",
       "      <td>1</td>\n",
       "    </tr>\n",
       "    <tr>\n",
       "      <th>2</th>\n",
       "      <td>2</td>\n",
       "      <td>6</td>\n",
       "      <td>4</td>\n",
       "      <td>1</td>\n",
       "      <td>0</td>\n",
       "      <td>0</td>\n",
       "      <td>0</td>\n",
       "      <td>1</td>\n",
       "      <td>0</td>\n",
       "      <td>1</td>\n",
       "      <td>0</td>\n",
       "      <td>0</td>\n",
       "      <td>616.6495</td>\n",
       "      <td>1</td>\n",
       "    </tr>\n",
       "  </tbody>\n",
       "</table>\n",
       "</div>"
      ],
      "text/plain": [
       "   TarType  TarLoc  TarColorCode  DistCond  TarDistDist  DistLoc  DistLine  \\\n",
       "0        2       1             4         2            2        3         2   \n",
       "1        2       2             2         1            0        0         0   \n",
       "2        2       6             4         1            0        0         0   \n",
       "\n",
       "   Resp  Block  ColorFreq  ChangeCounter  Acc         RT  Sub#  \n",
       "0     0      0          1              0    0  2000.0000     1  \n",
       "1     3      0          2              0    0   350.4923     1  \n",
       "2     1      0          1              0    0   616.6495     1  "
      ]
     },
     "execution_count": 26,
     "metadata": {},
     "output_type": "execute_result"
    }
   ],
   "source": [
    "df[0:3] #take a quick look at the dataframe. "
   ]
  },
  {
   "cell_type": "markdown",
   "metadata": {},
   "source": [
    "SingletonCueMatch = 1 = color singleton at cued location/object\n",
    "SingletonCueMatch = 2 = color singleton at uncued location/object\n",
    "SingletonCueMatch = 0 = color singleton absent\n",
    "BlockType = 1 = cross\n",
    "BlockType = 2 = circle\n",
    "BlockType = 3 = cardinal\n",
    "BlockType = 4 = diagonal"
   ]
  },
  {
   "cell_type": "markdown",
   "metadata": {},
   "source": [
    "## Data Trimming"
   ]
  },
  {
   "cell_type": "markdown",
   "metadata": {},
   "source": [
    "data trimming. correct, slower than 300 ms and faster than 1500. "
   ]
  },
  {
   "cell_type": "code",
   "execution_count": 27,
   "metadata": {
    "collapsed": false
   },
   "outputs": [],
   "source": [
    "Trimmer = df['Block'] > 0 #not the practice block\n",
    "Trimmer2 = df['Acc'] == 1 #not an error trial\n",
    "Trimmer3 = df['RT'] > 300 #not a super fast response\n",
    "PartTrim = (df['Sub#'] != 66)\n",
    "\n",
    "DistCond = df[Trimmer & Trimmer2 & Trimmer3].groupby(['DistCond','Sub#']) \n",
    "RTTrim = DistCond['RT'].mean() + 2.5*DistCond['RT'].std(ddof=0)\n",
    "subList = df.drop_duplicates(subset='Sub#')\n",
    "TrimmerOld = [False]*len(df)\n",
    "for sub in subList['Sub#']: #loop through every subject. \n",
    "    TrimmerA = (df.DistCond == 1) & (df['RT'] < RTTrim[1][sub]) & (df['Sub#'] == sub)\n",
    "    TrimmerB = (df.DistCond == 2) & (df['RT'] < RTTrim[2][sub]) & (df['Sub#'] == sub)\n",
    "    Trimmer4 = [any(tup) for tup in zip(TrimmerA, TrimmerB, TrimmerOld)] #combine those 2 RT trimmers. \n",
    "    TrimmerOld = Trimmer4"
   ]
  },
  {
   "cell_type": "code",
   "execution_count": 28,
   "metadata": {
    "collapsed": false
   },
   "outputs": [
    {
     "name": "stdout",
     "output_type": "stream",
     "text": [
      "34\n",
      "7680\n",
      "0.004427083\n"
     ]
    }
   ],
   "source": [
    "totalTrialNum = np.size(df[PartTrim & Trimmer],0)\n",
    "ex_counter = 0\n",
    "Total=0\n",
    "for sub in df['Sub#'].unique(): #loop through every subject. \n",
    "    TrimmerA = (df[Trimmer].DistCond == 1) & (df[Trimmer]['RT'] > RTTrim[1][sub]) & (df[Trimmer]['Sub#'] == sub) & (df[Trimmer].Acc==1)\n",
    "    TrimmerB = (df[Trimmer].DistCond == 2) & (df[Trimmer]['RT'] > RTTrim[2][sub]) & (df[Trimmer]['Sub#'] == sub) & (df[Trimmer].Acc==1)\n",
    "    TrimmerC = df[Trimmer]['RT'] < 300 & (df[Trimmer].Acc==1)\n",
    "    Total+= (sum(TrimmerA)+sum(TrimmerB)+sum(TrimmerC))\n",
    "Total = sum(TrimmerA) + sum(TrimmerB) + sum(TrimmerC)\n",
    "print Total\n",
    "print totalTrialNum\n",
    "Rt_ex = float(Total)/float(totalTrialNum)\n",
    "print '%.9f' % Rt_ex\n",
    "#measuring how many trials are excluded. "
   ]
  },
  {
   "cell_type": "markdown",
   "metadata": {},
   "source": [
    "checking acc. looks good. everyone above 90%"
   ]
  },
  {
   "cell_type": "code",
   "execution_count": 29,
   "metadata": {
    "collapsed": false
   },
   "outputs": [
    {
     "data": {
      "text/plain": [
       "Sub#\n",
       "1    0.959375\n",
       "2    0.878125\n",
       "3    0.950000\n",
       "4    0.981250\n",
       "5    0.917708\n",
       "6    0.918750\n",
       "7    0.981250\n",
       "8    0.922917\n",
       "Name: Acc, dtype: float64"
      ]
     },
     "execution_count": 29,
     "metadata": {},
     "output_type": "execute_result"
    }
   ],
   "source": [
    "tableAcc = df[Trimmer].pivot_table(values='Acc', index='Sub#', aggfunc=np.mean)\n",
    "tableAcc"
   ]
  },
  {
   "cell_type": "code",
   "execution_count": 30,
   "metadata": {
    "collapsed": false
   },
   "outputs": [
    {
     "data": {
      "text/plain": [
       "Sub#\n",
       "1    850.898361\n",
       "2    614.358924\n",
       "3    670.047412\n",
       "4    645.053529\n",
       "5    714.054194\n",
       "6    804.324221\n",
       "7    706.499745\n",
       "8    639.071922\n",
       "Name: RT, dtype: float64"
      ]
     },
     "execution_count": 30,
     "metadata": {},
     "output_type": "execute_result"
    }
   ],
   "source": [
    "tableRT = df[Trimmer & Trimmer2 & Trimmer3 & Trimmer4].pivot_table(values='RT', index='Sub#', aggfunc=np.mean)\n",
    "tableRT"
   ]
  },
  {
   "cell_type": "markdown",
   "metadata": {},
   "source": [
    "## RT Data"
   ]
  },
  {
   "cell_type": "code",
   "execution_count": 31,
   "metadata": {
    "collapsed": false
   },
   "outputs": [],
   "source": [
    "DTRIM = df['DistCond'] == 1\n",
    "tableRT2A = df[PartTrim & Trimmer & Trimmer2 & Trimmer3 & Trimmer4 & DTRIM].pivot_table(values='RT', index='Sub#', columns=['ColorFreq'], aggfunc=np.mean)\n",
    "DTRIM = df['DistCond'] == 2\n",
    "tableRT2B = df[PartTrim & Trimmer & Trimmer2 & Trimmer3 & Trimmer4 & DTRIM].pivot_table(values='RT', index='Sub#', columns=['ColorFreq'], aggfunc=np.mean)"
   ]
  },
  {
   "cell_type": "code",
   "execution_count": 32,
   "metadata": {
    "collapsed": false
   },
   "outputs": [
    {
     "data": {
      "image/png": "[encoded data removed]",
      "text/plain": [
       "<matplotlib.figure.Figure at 0x7fe16d02c4d0>"
      ]
     },
     "metadata": {},
     "output_type": "display_data"
    }
   ],
   "source": [
    "xdata = df['ColorFreq'][PartTrim & Trimmer & Trimmer2 & Trimmer3 & Trimmer4].unique()\n",
    "\n",
    "Absent  = np.mean(tableRT2A)\n",
    "Present = np.mean(tableRT2B)\n",
    "\n",
    "fig = plt.figure(figsize=(15,8))\n",
    "axes = fig.add_subplot(111)\n",
    "\n",
    "axes.plot(xdata, Absent, label='Singleton Absent'); \n",
    "axes.plot(xdata, Present, label='Singleton Present')\n",
    "axes.legend()\n",
    "axes.set_ylim(600,900)\n",
    "axes.set_xlim(0,3);"
   ]
  },
  {
   "cell_type": "code",
   "execution_count": 33,
   "metadata": {
    "collapsed": false
   },
   "outputs": [
    {
     "name": "stdout",
     "output_type": "stream",
     "text": [
      "----------------------------------------------------------------------------------------------------\n",
      "\u001b[1;31mSub#\t\t\t1\t\t\t2\t\t\t\u001b[0m\n",
      "1\t\t\t862.45\t\t\t825.76\t\t\t\n",
      "2\t\t\t605.87\t\t\t621.91\t\t\t\n",
      "3\t\t\t657.69\t\t\t680.57\t\t\t\n",
      "4\t\t\t639.63\t\t\t641.01\t\t\t\n",
      "5\t\t\t712.17\t\t\t713.66\t\t\t\n",
      "6\t\t\t788.72\t\t\t805.58\t\t\t\n",
      "7\t\t\t712.63\t\t\t700.24\t\t\t\n",
      "8\t\t\t625.3\t\t\t653.67\t\t\t\n",
      "\u001b[1;31mmean\t\t\t700.56\t\t\t705.3\t\t\t\n",
      "STE\t\t\t31.18\t\t\t26.4\t\t\t\u001b[0m\n",
      "----------------------------------------------------------------------------------------------------\n",
      "ttest = (-0.62813545453384934, 0.54985118011569645)\n",
      "n = 8\n"
     ]
    },
    {
     "data": {
      "image/png": "[encoded data removed]",
      "text/plain": [
       "<matplotlib.figure.Figure at 0x7fe16cd2b810>"
      ]
     },
     "metadata": {},
     "output_type": "display_data"
    }
   ],
   "source": [
    "ConType = df['ColorFreq'] == 1\n",
    "tableRT = df[PartTrim & Trimmer & Trimmer2 & Trimmer3 & Trimmer4 & ConType].pivot_table(values='RT', index='Sub#', columns=['DistCond'], aggfunc=np.mean)\n",
    "PythonAnalyses.dataTableRT(tableRT)\n",
    "\n",
    "PythonAnalyses.Test_and_Plot_PairwiseComparison(tableRT, 600, 1000, 'Singleton Condition','Changing Target')"
   ]
  },
  {
   "cell_type": "code",
   "execution_count": 34,
   "metadata": {
    "collapsed": false
   },
   "outputs": [
    {
     "name": "stdout",
     "output_type": "stream",
     "text": [
      "----------------------------------------------------------------------------------------------------\n",
      "\u001b[1;31mSub#\t\t\t1\t\t\t2\t\t\t\u001b[0m\n",
      "1\t\t\t870.44\t\t\t884.31\t\t\t\n",
      "2\t\t\t598.66\t\t\t632.69\t\t\t\n",
      "3\t\t\t655.06\t\t\t690.52\t\t\t\n",
      "4\t\t\t671.03\t\t\t657.42\t\t\t\n",
      "5\t\t\t714.52\t\t\t722.99\t\t\t\n",
      "6\t\t\t869.04\t\t\t797.57\t\t\t\n",
      "7\t\t\t692.76\t\t\t721.18\t\t\t\n",
      "8\t\t\t655.33\t\t\t619.92\t\t\t\n",
      "\u001b[1;31mmean\t\t\t715.86\t\t\t715.83\t\t\t\n",
      "STE\t\t\t35.61\t\t\t31.43\t\t\t\u001b[0m\n",
      "----------------------------------------------------------------------------------------------------\n",
      "ttest = (0.0023279741346843245, 0.99820750157113358)\n",
      "n = 8\n"
     ]
    },
    {
     "data": {
      "image/png": "[encoded data removed]",
      "text/plain": [
       "<matplotlib.figure.Figure at 0x7fe16cd50610>"
      ]
     },
     "metadata": {},
     "output_type": "display_data"
    }
   ],
   "source": [
    "ConType = df['ColorFreq'] == 2\n",
    "tableRT = df[PartTrim & Trimmer & Trimmer2 & Trimmer3 & Trimmer4 & ConType].pivot_table(values='RT', index='Sub#', columns=['DistCond'], aggfunc=np.mean)\n",
    "PythonAnalyses.dataTableRT(tableRT)\n",
    "\n",
    "PythonAnalyses.Test_and_Plot_PairwiseComparison(tableRT, 600, 1000, 'Singleton Condition','Change 1 Trial Prev')"
   ]
  },
  {
   "cell_type": "code",
   "execution_count": 35,
   "metadata": {
    "collapsed": false
   },
   "outputs": [
    {
     "data": {
      "image/png": "[encoded data removed]",
      "text/plain": [
       "<matplotlib.figure.Figure at 0x7fe16d214bd0>"
      ]
     },
     "metadata": {},
     "output_type": "display_data"
    }
   ],
   "source": [
    "tableRT2 = df[PartTrim & Trimmer & Trimmer2 & Trimmer3 & Trimmer4].pivot_table(values='RT', index='Block', columns=['DistCond'], aggfunc=np.mean)\n",
    "\n",
    "xdata = df['Block'][PartTrim & Trimmer & Trimmer2 & Trimmer3 & Trimmer4].unique()\n",
    "Absent  = tableRT2[1]\n",
    "Present = tableRT2[2]\n",
    "\n",
    "fig = plt.figure(figsize=(15,8))\n",
    "axes = fig.add_subplot(111)\n",
    "\n",
    "axes.plot(xdata, Absent, 'blue', label='Singleton Absent'); \n",
    "axes.plot(xdata, Present, 'green', label='Singleton Present')\n",
    "axes.legend()\n",
    "axes.set_ylim(600,900)\n",
    "axes.set_xlim(0,9);"
   ]
  },
  {
   "cell_type": "code",
   "execution_count": 40,
   "metadata": {
    "collapsed": true
   },
   "outputs": [],
   "source": [
    "df['Col_prevTrial'] = df['ColorFreq'].shift(periods=1)"
   ]
  },
  {
   "cell_type": "code",
   "execution_count": 41,
   "metadata": {
    "collapsed": false
   },
   "outputs": [
    {
     "name": "stdout",
     "output_type": "stream",
     "text": [
      "----------------------------------------------------------------------------------------------------\n",
      "\u001b[1;31mSub#\t\t\t1\t\t\t2\t\t\t\u001b[0m\n",
      "1\t\t\t861.26\t\t\t812.77\t\t\t\n",
      "2\t\t\t605.8\t\t\t625.93\t\t\t\n",
      "3\t\t\t654.16\t\t\t680.57\t\t\t\n",
      "4\t\t\t644.1\t\t\t643.74\t\t\t\n",
      "5\t\t\t705.89\t\t\t713.07\t\t\t\n",
      "6\t\t\t792.27\t\t\t806.84\t\t\t\n",
      "7\t\t\t707.5\t\t\t701.18\t\t\t\n",
      "8\t\t\t623.06\t\t\t646.59\t\t\t\n",
      "\u001b[1;31mmean\t\t\t699.25\t\t\t703.84\t\t\t\n",
      "STE\t\t\t31.23\t\t\t25.38\t\t\t\u001b[0m\n",
      "----------------------------------------------------------------------------------------------------\n",
      "ttest = (-0.53290604839900646, 0.6105908544428964)\n",
      "n = 8\n"
     ]
    },
    {
     "data": {
      "image/png": "[encoded data removed]",
      "text/plain": [
       "<matplotlib.figure.Figure at 0x7fe16cbcca90>"
      ]
     },
     "metadata": {},
     "output_type": "display_data"
    }
   ],
   "source": [
    "ConType = df['ColorFreq'] == 1\n",
    "ConType2 = df['Col_prevTrial'] == 1\n",
    "tableRT = df[PartTrim & Trimmer & Trimmer2 & Trimmer3 & Trimmer4 & ConType & ConType2].pivot_table(values='RT', index='Sub#', columns=['DistCond'], aggfunc=np.mean)\n",
    "PythonAnalyses.dataTableRT(tableRT)\n",
    "\n",
    "PythonAnalyses.Test_and_Plot_PairwiseComparison(tableRT, 600, 1000, 'Singleton Condition','Changing Target')"
   ]
  },
  {
   "cell_type": "code",
   "execution_count": 42,
   "metadata": {
    "collapsed": false
   },
   "outputs": [
    {
     "name": "stdout",
     "output_type": "stream",
     "text": [
      "----------------------------------------------------------------------------------------------------\n",
      "\u001b[1;31mSub#\t\t\t1\t\t\t2\t\t\t\u001b[0m\n",
      "1\t\t\t881.8\t\t\t881.03\t\t\t\n",
      "2\t\t\t588.1\t\t\t625.64\t\t\t\n",
      "3\t\t\t659.28\t\t\t692.76\t\t\t\n",
      "4\t\t\t669.67\t\t\t669.84\t\t\t\n",
      "5\t\t\t701.49\t\t\t716.68\t\t\t\n",
      "6\t\t\t875.21\t\t\t800.97\t\t\t\n",
      "7\t\t\t689.99\t\t\t714.93\t\t\t\n",
      "8\t\t\t651.24\t\t\t620.46\t\t\t\n",
      "\u001b[1;31mmean\t\t\t714.6\t\t\t715.29\t\t\t\n",
      "STE\t\t\t37.71\t\t\t31.17\t\t\t\u001b[0m\n",
      "----------------------------------------------------------------------------------------------------\n",
      "ttest = (-0.052276429643544876, 0.9597689834289973)\n",
      "n = 8\n"
     ]
    },
    {
     "data": {
      "image/png": "[encoded data removed]",
      "text/plain": [
       "<matplotlib.figure.Figure at 0x7fe16cac5110>"
      ]
     },
     "metadata": {},
     "output_type": "display_data"
    }
   ],
   "source": [
    "ConType = df['ColorFreq'] == 2\n",
    "ConType2 = df['Col_prevTrial'] == 1\n",
    "tableRT = df[PartTrim & Trimmer & Trimmer2 & Trimmer3 & Trimmer4 & ConType & ConType2].pivot_table(values='RT', index='Sub#', columns=['DistCond'], aggfunc=np.mean)\n",
    "PythonAnalyses.dataTableRT(tableRT)\n",
    "\n",
    "PythonAnalyses.Test_and_Plot_PairwiseComparison(tableRT, 600, 1000, 'Singleton Condition','Changing Target')"
   ]
  },
  {
   "cell_type": "code",
   "execution_count": 43,
   "metadata": {
    "collapsed": false
   },
   "outputs": [
    {
     "name": "stdout",
     "output_type": "stream",
     "text": [
      "----------------------------------------------------------------------------------------------------\n",
      "\u001b[1;31mSub#\t\t\t1\t\t\t2\t\t\t\u001b[0m\n",
      "1\t\t\t867.22\t\t\t876.8\t\t\t\n",
      "2\t\t\t606.14\t\t\t604.79\t\t\t\n",
      "3\t\t\t672.06\t\t\t680.57\t\t\t\n",
      "4\t\t\t622.81\t\t\t630.23\t\t\t\n",
      "5\t\t\t738.14\t\t\t715.84\t\t\t\n",
      "6\t\t\t774.17\t\t\t800.98\t\t\t\n",
      "7\t\t\t734.93\t\t\t696.52\t\t\t\n",
      "8\t\t\t633.86\t\t\t680.18\t\t\t\n",
      "\u001b[1;31mmean\t\t\t706.17\t\t\t710.74\t\t\t\n",
      "STE\t\t\t31.55\t\t\t31.48\t\t\t\u001b[0m\n",
      "----------------------------------------------------------------------------------------------------\n",
      "ttest = (-0.48898503012749578, 0.63980005222491743)\n",
      "n = 8\n"
     ]
    },
    {
     "data": {
      "image/png": "[encoded data removed]",
      "text/plain": [
       "<matplotlib.figure.Figure at 0x7fe16c9c6890>"
      ]
     },
     "metadata": {},
     "output_type": "display_data"
    }
   ],
   "source": [
    "ConType = df['ColorFreq'] == 1\n",
    "ConType2 = df['Col_prevTrial'] == 2\n",
    "tableRT = df[PartTrim & Trimmer & Trimmer2 & Trimmer3 & Trimmer4 & ConType & ConType2].pivot_table(values='RT', index='Sub#', columns=['DistCond'], aggfunc=np.mean)\n",
    "PythonAnalyses.dataTableRT(tableRT)\n",
    "\n",
    "PythonAnalyses.Test_and_Plot_PairwiseComparison(tableRT, 600, 1000, 'Singleton Condition','Changing Target')"
   ]
  },
  {
   "cell_type": "code",
   "execution_count": 44,
   "metadata": {
    "collapsed": false
   },
   "outputs": [
    {
     "name": "stdout",
     "output_type": "stream",
     "text": [
      "----------------------------------------------------------------------------------------------------\n",
      "\u001b[1;31mSub#\t\t\t1\t\t\t2\t\t\t\u001b[0m\n",
      "1\t\t\t824.4\t\t\t897.84\t\t\t\n",
      "2\t\t\t652.34\t\t\t661.75\t\t\t\n",
      "3\t\t\t639.94\t\t\t679.74\t\t\t\n",
      "4\t\t\t676.27\t\t\t597.78\t\t\t\n",
      "5\t\t\t757.53\t\t\t774.19\t\t\t\n",
      "6\t\t\t802.09\t\t\t786.86\t\t\t\n",
      "7\t\t\t702.16\t\t\t739.92\t\t\t\n",
      "8\t\t\t676.66\t\t\t617.09\t\t\t\n",
      "\u001b[1;31mmean\t\t\t716.42\t\t\t719.4\t\t\t\n",
      "STE\t\t\t24.66\t\t\t35.35\t\t\t\u001b[0m\n",
      "----------------------------------------------------------------------------------------------------\n",
      "ttest = (-0.16287376179827504, 0.87522009299156978)\n",
      "n = 8\n"
     ]
    },
    {
     "data": {
      "image/png": "[encoded data removed]",
      "text/plain": [
       "<matplotlib.figure.Figure at 0x7fe16c9d29d0>"
      ]
     },
     "metadata": {},
     "output_type": "display_data"
    }
   ],
   "source": [
    "ConType = df['ColorFreq'] == 2\n",
    "ConType2 = df['Col_prevTrial'] == 2\n",
    "tableRT = df[PartTrim & Trimmer & Trimmer2 & Trimmer3 & Trimmer4 & ConType & ConType2].pivot_table(values='RT', index='Sub#', columns=['DistCond'], aggfunc=np.mean)\n",
    "PythonAnalyses.dataTableRT(tableRT)\n",
    "\n",
    "PythonAnalyses.Test_and_Plot_PairwiseComparison(tableRT, 600, 1000, 'Singleton Condition','Changing Target')"
   ]
  },
  {
   "cell_type": "code",
   "execution_count": null,
   "metadata": {
    "collapsed": true
   },
   "outputs": [],
   "source": []
  }
 ],
 "metadata": {
  "kernelspec": {
   "display_name": "Python 2",
   "language": "python",
   "name": "python2"
  },
  "language_info": {
   "codemirror_mode": {
    "name": "ipython",
    "version": 2
   },
   "file_extension": ".py",
   "mimetype": "text/x-python",
   "name": "python",
   "nbconvert_exporter": "python",
   "pygments_lexer": "ipython2",
   "version": "2.7.9"
  }
 },
 "nbformat": 4,
 "nbformat_minor": 0
}
