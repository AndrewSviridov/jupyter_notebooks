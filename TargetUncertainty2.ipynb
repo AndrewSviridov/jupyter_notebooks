{
 "cells": [
  {
   "cell_type": "markdown",
   "metadata": {},
   "source": [
    "# Basic Data analyses"
   ]
  },
  {
   "cell_type": "markdown",
   "metadata": {},
   "source": [
    "## Load in the data"
   ]
  },
  {
   "cell_type": "code",
   "execution_count": 1,
   "metadata": {
    "collapsed": false
   },
   "outputs": [],
   "source": [
    "import numpy as np, sys, scipy.stats, pandas as pd, os, os.path, csv, PythonAnalyses\n",
    "\n",
    "import matplotlib\n",
    "import matplotlib.pyplot as plt\n",
    "import pylab as pl\n",
    "%matplotlib inline\n",
    "pd.options.display.mpl_style = 'default'\n",
    "\n",
    "Start = 1 #if I want to reload data from csvs = 1. If i want to load python pickle == 0\n",
    "\n",
    "filename = 'AdditionalSingleton_TargetUncertain2.csv'\n",
    "csvName = 'AdditionalSingleton_TargetUncertain2'\n",
    "\n",
    "if sys.platform == 'linux2': #is this my linux laptop\n",
    "    path = '/home/dan/Dropbox/TargetUncertainty/Exp2'\n",
    "elif sys.platform == 'darwin': #is this my mac work comp    \n",
    "    path = '/Users/danvatterott/Dropbox Encore/Dropbox/TargetUncertainty/Exp2/'\n",
    "\n",
    "os.chdir(path)\n",
    "\n",
    "if Start == 1: #load in data from csv\n",
    "    numfiles = len([name for name in os.listdir('.') if os.path.isfile(name) and name.endswith(\".csv\") and name[0].isdigit()])\n",
    "    for partnum in xrange(1,numfiles+1): #this is a loop that goes through all participants\n",
    "        filename = '%s_' % str(partnum) + csvName + '.csv'\n",
    "        if partnum == 1: \n",
    "            df = pd.read_csv(filename)\n",
    "        if partnum > 1: \n",
    "            df = df.append(pd.read_csv(filename))\n",
    "    df.columns = map(str.lstrip, df.columns)\n",
    "    df.to_pickle(csvName+'.pkl') #save this data frame all together\n",
    "elif Start == 0: #load the data from a previously saved python file. should save time if not adding csv data. \n",
    "    df = pd.read_pickle(csvName+'.pkl')"
   ]
  },
  {
   "cell_type": "code",
   "execution_count": 2,
   "metadata": {
    "collapsed": false
   },
   "outputs": [
    {
     "data": {
      "text/html": [
       "<div style=\"max-height:1000px;max-width:1500px;overflow:auto;\">\n",
       "<table border=\"1\" class=\"dataframe\">\n",
       "  <thead>\n",
       "    <tr style=\"text-align: right;\">\n",
       "      <th></th>\n",
       "      <th>TarType</th>\n",
       "      <th>TarLoc</th>\n",
       "      <th>TarColorCode</th>\n",
       "      <th>DistCond</th>\n",
       "      <th>TarDistDist</th>\n",
       "      <th>DistLoc</th>\n",
       "      <th>DistLine</th>\n",
       "      <th>Resp</th>\n",
       "      <th>Block</th>\n",
       "      <th>ConstantTar</th>\n",
       "      <th>Acc</th>\n",
       "      <th>RT</th>\n",
       "      <th>Sub#</th>\n",
       "    </tr>\n",
       "  </thead>\n",
       "  <tbody>\n",
       "    <tr>\n",
       "      <th>0</th>\n",
       "      <td>1</td>\n",
       "      <td>1</td>\n",
       "      <td>4</td>\n",
       "      <td>1</td>\n",
       "      <td>0</td>\n",
       "      <td>0</td>\n",
       "      <td>0</td>\n",
       "      <td>0</td>\n",
       "      <td>0</td>\n",
       "      <td>0</td>\n",
       "      <td>0</td>\n",
       "      <td>2000.0000</td>\n",
       "      <td>1</td>\n",
       "    </tr>\n",
       "    <tr>\n",
       "      <th>1</th>\n",
       "      <td>1</td>\n",
       "      <td>1</td>\n",
       "      <td>4</td>\n",
       "      <td>2</td>\n",
       "      <td>2</td>\n",
       "      <td>4</td>\n",
       "      <td>1</td>\n",
       "      <td>2</td>\n",
       "      <td>0</td>\n",
       "      <td>0</td>\n",
       "      <td>0</td>\n",
       "      <td>2297.4737</td>\n",
       "      <td>1</td>\n",
       "    </tr>\n",
       "    <tr>\n",
       "      <th>2</th>\n",
       "      <td>1</td>\n",
       "      <td>4</td>\n",
       "      <td>4</td>\n",
       "      <td>1</td>\n",
       "      <td>0</td>\n",
       "      <td>0</td>\n",
       "      <td>0</td>\n",
       "      <td>1</td>\n",
       "      <td>0</td>\n",
       "      <td>0</td>\n",
       "      <td>1</td>\n",
       "      <td>1620.1343</td>\n",
       "      <td>1</td>\n",
       "    </tr>\n",
       "  </tbody>\n",
       "</table>\n",
       "</div>"
      ],
      "text/plain": [
       "   TarType  TarLoc  TarColorCode  DistCond  TarDistDist  DistLoc  DistLine  \\\n",
       "0        1       1             4         1            0        0         0   \n",
       "1        1       1             4         2            2        4         1   \n",
       "2        1       4             4         1            0        0         0   \n",
       "\n",
       "   Resp  Block  ConstantTar  Acc         RT  Sub#  \n",
       "0     0      0            0    0  2000.0000     1  \n",
       "1     2      0            0    0  2297.4737     1  \n",
       "2     1      0            0    1  1620.1343     1  "
      ]
     },
     "execution_count": 2,
     "metadata": {},
     "output_type": "execute_result"
    }
   ],
   "source": [
    "df[0:3] #take a quick look at the dataframe. "
   ]
  },
  {
   "cell_type": "markdown",
   "metadata": {},
   "source": [
    "SingletonCueMatch = 1 = color singleton at cued location/object\n",
    "SingletonCueMatch = 2 = color singleton at uncued location/object\n",
    "SingletonCueMatch = 0 = color singleton absent\n",
    "BlockType = 1 = cross\n",
    "BlockType = 2 = circle\n",
    "BlockType = 3 = cardinal\n",
    "BlockType = 4 = diagonal"
   ]
  },
  {
   "cell_type": "markdown",
   "metadata": {},
   "source": [
    "## Data Trimming"
   ]
  },
  {
   "cell_type": "markdown",
   "metadata": {},
   "source": [
    "data trimming. correct, slower than 300 ms and faster than 1500. "
   ]
  },
  {
   "cell_type": "code",
   "execution_count": 3,
   "metadata": {
    "collapsed": false
   },
   "outputs": [],
   "source": [
    "Trimmer = df['Block'] > 0 #not the practice block\n",
    "Trimmer2 = df['Acc'] == 1 #not an error trial\n",
    "Trimmer3 = df['RT'] > 300 #not a super fast response\n",
    "PartTrim = (df['Sub#'] != 66)\n",
    "\n",
    "DistCond = df[Trimmer & Trimmer2 & Trimmer3].groupby(['DistCond','Sub#']) \n",
    "RTTrim = DistCond['RT'].mean() + 2.5*DistCond['RT'].std(ddof=0)\n",
    "subList = df.drop_duplicates(subset='Sub#')\n",
    "TrimmerOld = [False]*len(df)\n",
    "for sub in subList['Sub#']: #loop through every subject. \n",
    "    TrimmerA = (df.DistCond == 1) & (df['RT'] < RTTrim[1][sub]) & (df['Sub#'] == sub)\n",
    "    TrimmerB = (df.DistCond == 2) & (df['RT'] < RTTrim[2][sub]) & (df['Sub#'] == sub)\n",
    "    Trimmer4 = [any(tup) for tup in zip(TrimmerA, TrimmerB, TrimmerOld)] #combine those 2 RT trimmers. \n",
    "    TrimmerOld = Trimmer4"
   ]
  },
  {
   "cell_type": "code",
   "execution_count": 4,
   "metadata": {
    "collapsed": false
   },
   "outputs": [
    {
     "name": "stdout",
     "output_type": "stream",
     "text": [
      "8\n",
      "4992\n",
      "0.001602564\n"
     ]
    }
   ],
   "source": [
    "totalTrialNum = np.size(df[PartTrim & Trimmer],0)\n",
    "ex_counter = 0\n",
    "Total=0\n",
    "for sub in df['Sub#'].unique(): #loop through every subject. \n",
    "    TrimmerA = (df[Trimmer].DistCond == 1) & (df[Trimmer]['RT'] > RTTrim[1][sub]) & (df[Trimmer]['Sub#'] == sub) & (df[Trimmer].Acc==1)\n",
    "    TrimmerB = (df[Trimmer].DistCond == 2) & (df[Trimmer]['RT'] > RTTrim[2][sub]) & (df[Trimmer]['Sub#'] == sub) & (df[Trimmer].Acc==1)\n",
    "    TrimmerC = df[Trimmer]['RT'] < 300 & (df[Trimmer].Acc==1)\n",
    "    Total+= (sum(TrimmerA)+sum(TrimmerB)+sum(TrimmerC))\n",
    "Total = sum(TrimmerA) + sum(TrimmerC)\n",
    "print Total\n",
    "print totalTrialNum\n",
    "Rt_ex = float(Total)/float(totalTrialNum)\n",
    "print '%.9f' % Rt_ex\n",
    "#measuring how many trials are excluded. "
   ]
  },
  {
   "cell_type": "markdown",
   "metadata": {},
   "source": [
    "checking acc. looks good. everyone above 90%"
   ]
  },
  {
   "cell_type": "code",
   "execution_count": 5,
   "metadata": {
    "collapsed": false
   },
   "outputs": [
    {
     "data": {
      "text/plain": [
       "Sub#\n",
       "1     0.921875\n",
       "2     0.932292\n",
       "3     0.966146\n",
       "4     0.966146\n",
       "5     0.947917\n",
       "6     0.979167\n",
       "7     0.950521\n",
       "8     0.992188\n",
       "9     0.963542\n",
       "10    0.968750\n",
       "11    0.929688\n",
       "12    0.976562\n",
       "13    0.958333\n",
       "Name: Acc, dtype: float64"
      ]
     },
     "execution_count": 5,
     "metadata": {},
     "output_type": "execute_result"
    }
   ],
   "source": [
    "tableAcc = df[Trimmer].pivot_table(values='Acc', index='Sub#', aggfunc=np.mean)\n",
    "tableAcc"
   ]
  },
  {
   "cell_type": "markdown",
   "metadata": {},
   "source": [
    "## RT Data"
   ]
  },
  {
   "cell_type": "code",
   "execution_count": 6,
   "metadata": {
    "collapsed": false
   },
   "outputs": [
    {
     "name": "stdout",
     "output_type": "stream",
     "text": [
      "----------------------------------------------------------------------------------------------------\n",
      "\u001b[1;31mSub#\t\t\t1\t\t\t2\t\t\t\u001b[0m\n",
      "1\t\t\t714.9\t\t\t742.97\t\t\t\n",
      "2\t\t\t600.6\t\t\t593.62\t\t\t\n",
      "3\t\t\t629.28\t\t\t638.36\t\t\t\n",
      "4\t\t\t678.73\t\t\t677.07\t\t\t\n",
      "5\t\t\t659.03\t\t\t672.37\t\t\t\n",
      "6\t\t\t749.9\t\t\t742.93\t\t\t\n",
      "\u001b[1;31mmean\t\t\t672.07\t\t\t677.89\t\t\t\n",
      "STE\t\t\t22.39\t\t\t23.92\t\t\t\u001b[0m\n",
      "----------------------------------------------------------------------------------------------------\n",
      "ttest = (-1.0352063954680686, 0.34802037679234443)\n",
      "n = 6\n"
     ]
    },
    {
     "data": {
      "image/png": "[encoded data removed]",
      "text/plain": [
       "<matplotlib.figure.Figure at 0x7f4764298690>"
      ]
     },
     "metadata": {},
     "output_type": "display_data"
    }
   ],
   "source": [
    "ConType = df['ConstantTar'] == 1\n",
    "tableRT = df[PartTrim & Trimmer & Trimmer2 & Trimmer3 & Trimmer4 & ConType].pivot_table(values='RT', index='Sub#', columns=['DistCond'], aggfunc=np.mean)\n",
    "PythonAnalyses.dataTableRT(tableRT)\n",
    "\n",
    "PythonAnalyses.Test_and_Plot_PairwiseComparison(tableRT, 600, 1000, 'Singleton Condition','ConstantTarget')"
   ]
  },
  {
   "cell_type": "code",
   "execution_count": 7,
   "metadata": {
    "collapsed": false
   },
   "outputs": [
    {
     "name": "stdout",
     "output_type": "stream",
     "text": [
      "----------------------------------------------------------------------------------------------------\n",
      "\u001b[1;31mSub#\t\t\t1\t\t\t2\t\t\t\u001b[0m\n",
      "1\t\t\t740.83\t\t\t728.63\t\t\t\n",
      "2\t\t\t644.46\t\t\t675.08\t\t\t\n",
      "3\t\t\t718.8\t\t\t812.22\t\t\t\n",
      "4\t\t\t562.28\t\t\t579.05\t\t\t\n",
      "5\t\t\t828.14\t\t\t905.57\t\t\t\n",
      "6\t\t\t663.84\t\t\t674.34\t\t\t\n",
      "7\t\t\t611.23\t\t\t599.28\t\t\t\n",
      "\u001b[1;31mmean\t\t\t681.37\t\t\t710.59\t\t\t\n",
      "STE\t\t\t33.54\t\t\t43.9\t\t\t\u001b[0m\n",
      "----------------------------------------------------------------------------------------------------\n",
      "ttest = (-1.8604810281392208, 0.11214895913866359)\n",
      "n = 7\n"
     ]
    },
    {
     "data": {
      "image/png": "[encoded data removed]",
      "text/plain": [
       "<matplotlib.figure.Figure at 0x7f475a933a90>"
      ]
     },
     "metadata": {},
     "output_type": "display_data"
    }
   ],
   "source": [
    "ConType = df['ConstantTar'] == 0\n",
    "tableRT = df[PartTrim & Trimmer & Trimmer2 & Trimmer3 & Trimmer4 & ConType].pivot_table(values='RT', index='Sub#', columns=['DistCond'], aggfunc=np.mean)\n",
    "PythonAnalyses.dataTableRT(tableRT)\n",
    "\n",
    "PythonAnalyses.Test_and_Plot_PairwiseComparison(tableRT, 600, 1000, 'Singleton Condition','Changing Target')"
   ]
  },
  {
   "cell_type": "code",
   "execution_count": 9,
   "metadata": {
    "collapsed": false
   },
   "outputs": [
    {
     "data": {
      "text/plain": [
       "(-1.1163392114926591, 0.29038229153073197)"
      ]
     },
     "execution_count": 9,
     "metadata": {},
     "output_type": "execute_result"
    }
   ],
   "source": [
    "ConType = df['ConstantTar'] == 1\n",
    "tableRT = df[PartTrim & Trimmer & Trimmer2 & Trimmer3 & Trimmer4 & ConType].pivot_table(values='RT', index='Sub#', columns=['DistCond'], aggfunc=np.mean)\n",
    "Diff_Constant = tableRT[2]-tableRT[1]\n",
    "ConType = df['ConstantTar'] == 0\n",
    "tableRT = df[PartTrim & Trimmer & Trimmer2 & Trimmer3 & Trimmer4 & ConType].pivot_table(values='RT', index='Sub#', columns=['DistCond'], aggfunc=np.mean)\n",
    "Diff_Change = tableRT[2]-tableRT[1]\n",
    "\n",
    "scipy.stats.ttest_ind(Diff_Constant, Diff_Change)"
   ]
  },
  {
   "cell_type": "code",
   "execution_count": 10,
   "metadata": {
    "collapsed": false
   },
   "outputs": [
    {
     "data": {
      "text/plain": [
       "(-0.4173799914381271, 0.68521992491731998)"
      ]
     },
     "execution_count": 10,
     "metadata": {},
     "output_type": "execute_result"
    }
   ],
   "source": [
    "ConType = df['ConstantTar'] == 1\n",
    "tableRT3 = df[PartTrim & Trimmer & Trimmer2 & Trimmer3 & Trimmer4 & ConType].pivot_table(values='RT', index='Sub#', columns=[], aggfunc=np.mean)\n",
    "ConType = df['ConstantTar'] == 0\n",
    "tableRT4 = df[PartTrim & Trimmer & Trimmer2 & Trimmer3 & Trimmer4 & ConType].pivot_table(values='RT', index='Sub#', columns=[], aggfunc=np.mean)\n",
    "\n",
    "scipy.stats.ttest_ind(tableRT3, tableRT4)"
   ]
  },
  {
   "cell_type": "code",
   "execution_count": 11,
   "metadata": {
    "collapsed": false
   },
   "outputs": [],
   "source": [
    "df['Col_prevTrial'] = df['TarColorCode'].shift(periods=1)"
   ]
  },
  {
   "cell_type": "code",
   "execution_count": 12,
   "metadata": {
    "collapsed": false
   },
   "outputs": [],
   "source": [
    "df['Col_Rep'] = 0\n",
    "df.loc[(df['Col_prevTrial'] == df['TarColorCode']), 'Col_Rep'] = 1"
   ]
  },
  {
   "cell_type": "code",
   "execution_count": 13,
   "metadata": {
    "collapsed": false
   },
   "outputs": [
    {
     "name": "stdout",
     "output_type": "stream",
     "text": [
      "----------------------------------------------------------------------------------------------------\n",
      "\u001b[1;31mSub#\t\t\t1\t\t\t2\t\t\t\u001b[0m\n",
      "1\t\t\t740.83\t\t\t728.63\t\t\t\n",
      "2\t\t\t640.18\t\t\t672.62\t\t\t\n",
      "3\t\t\t718.99\t\t\t786.95\t\t\t\n",
      "4\t\t\t575.52\t\t\t577.77\t\t\t\n",
      "5\t\t\t828.37\t\t\t908.18\t\t\t\n",
      "6\t\t\t642.84\t\t\t686.34\t\t\t\n",
      "7\t\t\t612.51\t\t\t600.31\t\t\t\n",
      "\u001b[1;31mmean\t\t\t679.89\t\t\t708.69\t\t\t\n",
      "STE\t\t\t32.98\t\t\t42.82\t\t\t\u001b[0m\n",
      "----------------------------------------------------------------------------------------------------\n",
      "ttest = (-2.0325232093528118, 0.088354493884817933)\n",
      "n = 7\n"
     ]
    },
    {
     "data": {
      "image/png": "[encoded data removed]",
      "text/plain": [
       "<matplotlib.figure.Figure at 0x7fdaa3acb4d0>"
      ]
     },
     "metadata": {},
     "output_type": "display_data"
    }
   ],
   "source": [
    "ConType = df['ConstantTar'] == 0\n",
    "TarRep = df['Col_Rep'] == 1\n",
    "tableRT = df[PartTrim & Trimmer & Trimmer2 & Trimmer3 & Trimmer4 & ConType & TarRep].pivot_table(values='RT', index='Sub#', columns=['DistCond'], aggfunc=np.mean)\n",
    "PythonAnalyses.dataTableRT(tableRT)\n",
    "\n",
    "PythonAnalyses.Test_and_Plot_PairwiseComparison(tableRT, 600, 1000, 'Singleton Condition','Changing Target; Repeated TargetColor')"
   ]
  },
  {
   "cell_type": "code",
   "execution_count": 14,
   "metadata": {
    "collapsed": false
   },
   "outputs": [
    {
     "name": "stdout",
     "output_type": "stream",
     "text": [
      "----------------------------------------------------------------------------------------------------\n",
      "\u001b[1;31mSub#\t\t\t1\t\t\t2\t\t\t\u001b[0m\n",
      "1\t\t\t646.14\t\t\t675.95\t\t\t\n",
      "2\t\t\t718.73\t\t\t820.64\t\t\t\n",
      "3\t\t\t556.77\t\t\t579.52\t\t\t\n",
      "4\t\t\t828.07\t\t\t904.54\t\t\t\n",
      "5\t\t\t671.53\t\t\t670.3\t\t\t\n",
      "6\t\t\t610.78\t\t\t598.87\t\t\t\n",
      "\u001b[1;31mmean\t\t\t672.0\t\t\t708.31\t\t\t\n",
      "STE\t\t\t38.4\t\t\t52.34\t\t\t\u001b[0m\n",
      "----------------------------------------------------------------------------------------------------\n",
      "ttest = (-2.0006402655802127, 0.10185616422704002)\n",
      "n = 6\n"
     ]
    },
    {
     "data": {
      "image/png": "[encoded data removed]",
      "text/plain": [
       "<matplotlib.figure.Figure at 0x7fdaa39a3850>"
      ]
     },
     "metadata": {},
     "output_type": "display_data"
    }
   ],
   "source": [
    "ConType = df['ConstantTar'] == 0\n",
    "TarRep = df['Col_Rep'] == 0\n",
    "tableRT = df[PartTrim & Trimmer & Trimmer2 & Trimmer3 & Trimmer4 & ConType & TarRep].pivot_table(values='RT', index='Sub#', columns=['DistCond'], aggfunc=np.mean)\n",
    "PythonAnalyses.dataTableRT(tableRT)\n",
    "\n",
    "PythonAnalyses.Test_and_Plot_PairwiseComparison(tableRT, 600, 1000, 'Singleton Condition','Changing Target; Changed TargetColor')"
   ]
  },
  {
   "cell_type": "code",
   "execution_count": 14,
   "metadata": {
    "collapsed": false
   },
   "outputs": [
    {
     "data": {
      "image/png": "[encoded data removed]",
      "text/plain": [
       "<matplotlib.figure.Figure at 0x7f7ce4f45090>"
      ]
     },
     "metadata": {},
     "output_type": "display_data"
    }
   ],
   "source": [
    "ConType = df['ConstantTar'] == 1\n",
    "tableRT2 = df[PartTrim & Trimmer & Trimmer2 & Trimmer3 & Trimmer4 & ConType].pivot_table(values='RT', index='Block', columns=['DistCond'], aggfunc=np.mean)\n",
    "\n",
    "xdata = df['Block'][PartTrim & Trimmer & Trimmer2 & Trimmer3 & Trimmer4].unique()\n",
    "Absent  = tableRT2[1]\n",
    "Present = tableRT2[2]\n",
    "\n",
    "fig = plt.figure(figsize=(15,8))\n",
    "axes = fig.add_subplot(111)\n",
    "\n",
    "axes.plot(xdata, Absent, 'blue', label='Singleton Absent'); \n",
    "axes.plot(xdata, Present, 'green', label='Singleton Present')\n",
    "axes.legend()\n",
    "axes.set_ylim(600,900)\n",
    "axes.set_xlim(0,9);"
   ]
  },
  {
   "cell_type": "code",
   "execution_count": 15,
   "metadata": {
    "collapsed": false
   },
   "outputs": [
    {
     "data": {
      "image/png": "[encoded data removed]",
      "text/plain": [
       "<matplotlib.figure.Figure at 0x7f7ce49e71d0>"
      ]
     },
     "metadata": {},
     "output_type": "display_data"
    }
   ],
   "source": [
    "ConType = df['ConstantTar'] == 0\n",
    "tableRT2 = df[PartTrim & Trimmer & Trimmer2 & Trimmer3 & Trimmer4 & ConType].pivot_table(values='RT', index='Block', columns=['DistCond'], aggfunc=np.mean)\n",
    "\n",
    "xdata = df['Block'][PartTrim & Trimmer & Trimmer2 & Trimmer3 & Trimmer4].unique()\n",
    "Absent  = tableRT2[1]\n",
    "Present = tableRT2[2]\n",
    "\n",
    "fig = plt.figure(figsize=(15,8))\n",
    "axes = fig.add_subplot(111)\n",
    "\n",
    "axes.plot(xdata, Absent, 'blue', label='Singleton Absent'); \n",
    "axes.plot(xdata, Present, 'green', label='Singleton Present')\n",
    "axes.legend()\n",
    "axes.set_ylim(600,900)\n",
    "axes.set_xlim(0,9);"
   ]
  },
  {
   "cell_type": "code",
   "execution_count": null,
   "metadata": {
    "collapsed": true
   },
   "outputs": [],
   "source": []
  },
  {
   "cell_type": "code",
   "execution_count": null,
   "metadata": {
    "collapsed": true
   },
   "outputs": [],
   "source": []
  }
 ],
 "metadata": {
  "kernelspec": {
   "display_name": "Python 2",
   "language": "python",
   "name": "python2"
  },
  "language_info": {
   "codemirror_mode": {
    "name": "ipython",
    "version": 2
   },
   "file_extension": ".py",
   "mimetype": "text/x-python",
   "name": "python",
   "nbconvert_exporter": "python",
   "pygments_lexer": "ipython2",
   "version": "2.7.9"
  }
 },
 "nbformat": 4,
 "nbformat_minor": 0
}
