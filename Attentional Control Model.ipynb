{
 "cells": [
  {
   "cell_type": "code",
   "execution_count": 1,
   "metadata": {
    "collapsed": true
   },
   "outputs": [],
   "source": [
    "import numpy as np, pandas as pd\n",
    "from matplotlib import pyplot as plt\n",
    "%matplotlib inline\n",
    "plt.style.use('ggplot') #im addicted to ggplot. so pretty."
   ]
  },
  {
   "cell_type": "code",
   "execution_count": 2,
   "metadata": {
    "collapsed": false
   },
   "outputs": [],
   "source": [
    "from random import choice\n",
    "\n",
    "def add_sing_trial(tar_pos,sing_pos):\n",
    "    counter = 0\n",
    "    item_vect = np.zeros((Items,1))\n",
    "    while True:\n",
    "        counter += 1\n",
    "        #holder = np.random.exponential(Rate,size=(7,1))\n",
    "        #holder[tar_pos] = np.random.exponential(tar_boost)\n",
    "        holder = np.random.normal(Rate,size=(7,1))*sigma\n",
    "        holder[tar_pos] += np.random.normal(tar_boost)#*sigma\n",
    "        if sing_pos and counter <= pd_time:\n",
    "            #holder[sing_pos] += np.random.exponential(sal_boost)\n",
    "            holder[sing_pos] += np.random.normal(sal_boost)#*sigma\n",
    "        elif sing_pos and counter > pd_time:\n",
    "            holder[sing_pos] += -np.random.normal(pd_boost)#*sigma\n",
    "            #holder[sing_pos] = 0\n",
    "        \n",
    "        holder += 1-holder[np.argmin(holder)]\n",
    "        item_vect += holder/np.sum(holder)\n",
    "        if np.sum(holder) < 1: print 'test'\n",
    "        if np.any(item_vect > Threshold): break\n",
    "    return {'RT':counter+np.random.normal(225),'Acc':np.argmax(item_vect) == tar_pos,'item_vect':item_vect,'tar_pos':tar_pos,'sing_pos':sing_pos}"
   ]
  },
  {
   "cell_type": "markdown",
   "metadata": {},
   "source": [
    "basic additional singleton paradigm"
   ]
  },
  {
   "cell_type": "code",
   "execution_count": 3,
   "metadata": {
    "collapsed": false
   },
   "outputs": [
    {
     "name": "stdout",
     "output_type": "stream",
     "text": [
      "698.470872308\n",
      "718.615041772\n",
      "1.0\n",
      "1.0\n"
     ]
    },
    {
     "data": {
      "image/png": "[encoded data removed]",
      "text/plain": [
       "<matplotlib.figure.Figure at 0x7f00fca9bf10>"
      ]
     },
     "metadata": {},
     "output_type": "display_data"
    }
   ],
   "source": [
    "Items = 7\n",
    "Threshold = 100\n",
    "Rate = 1\n",
    "pd_time = 250\n",
    "sigma = 1.75\n",
    "\n",
    "tar_boost = 2 #target uncertainty can decrease this score\n",
    "sal_boost = 3\n",
    "pd_boost = sal_boost+(sal_boost-tar_boost)/2.25\n",
    "\n",
    "RT = []\n",
    "Acc = []\n",
    "trial_type = []\n",
    "\n",
    "for trial in np.arange(1000):\n",
    "    trial_type.append(choice([0,1]))\n",
    "        \n",
    "    tar_pos = choice(np.arange(7))\n",
    "    \n",
    "    if trial_type[trial] == 0: \n",
    "        sing_pos = []\n",
    "    else:\n",
    "        sing_pos = tar_pos\n",
    "        while sing_pos == tar_pos:\n",
    "            sing_pos = choice(np.arange(7))\n",
    "            if sing_pos != tar_pos: break\n",
    "    \n",
    "    trial_dict = add_sing_trial(tar_pos,sing_pos)\n",
    "    RT.append(trial_dict['RT'])\n",
    "    Acc.append(trial_dict['Acc'])  \n",
    "    \n",
    "RT = np.array(RT)\n",
    "Acc = np.array(Acc)\n",
    "trial_type = np.array(trial_type)\n",
    "\n",
    "plt.bar([0, 1],[np.mean(RT[(trial_type==0) & Acc==1]), np.mean(RT[(trial_type==1) & Acc==1])]);\n",
    "plt.xticks([0.5, 1.5],['Absent', 'Present'])\n",
    "plt.xlim([-0.25, 2])\n",
    "plt.ylim([600, 1000])\n",
    "plt.ylabel('RT (ms)')\n",
    "\n",
    "print np.mean(RT[(trial_type==0) & Acc==1])\n",
    "print np.mean(RT[(trial_type==1) & Acc==1])\n",
    "\n",
    "print np.mean(Acc[trial_type==0])\n",
    "print np.mean(Acc[trial_type==1])    "
   ]
  },
  {
   "cell_type": "markdown",
   "metadata": {},
   "source": [
    "next i want to implement trials where the target can be a color singleton. both in the mixed and the non-mixed versions"
   ]
  },
  {
   "cell_type": "code",
   "execution_count": 4,
   "metadata": {
    "collapsed": false
   },
   "outputs": [
    {
     "name": "stdout",
     "output_type": "stream",
     "text": [
      "717.578806443\n",
      "698.752424483\n",
      "719.185837534\n",
      "1.0\n",
      "1.0\n",
      "1.0\n"
     ]
    },
    {
     "data": {
      "image/png": "[encoded data removed]",
      "text/plain": [
       "<matplotlib.figure.Figure at 0x7f00c30cc190>"
      ]
     },
     "metadata": {},
     "output_type": "display_data"
    }
   ],
   "source": [
    "Items = 7\n",
    "Threshold = 100\n",
    "Rate = 1\n",
    "pd_time = 250\n",
    "sigma = 1.75\n",
    "\n",
    "tar_boost = 2 #target uncertainty can decrease this score\n",
    "sal_boost = 3\n",
    "pd_boost = sal_boost+(sal_boost-tar_boost)/2.25\n",
    "\n",
    "RT = []\n",
    "Acc = []\n",
    "trial_type = []\n",
    "\n",
    "for trial in np.arange(1000):\n",
    "    trial_type.append(choice([0,1]))\n",
    "        \n",
    "    tar_pos = choice(np.arange(7))\n",
    "    \n",
    "    if trial_type[trial] == 0: \n",
    "        sing_pos = []\n",
    "    else:\n",
    "        sing_pos = choice(np.arange(7))\n",
    "    \n",
    "    trial_dict = add_sing_trial(tar_pos,sing_pos)\n",
    "    if trial_dict['tar_pos'] == trial_dict['sing_pos']: trial_type[trial] = 2\n",
    "    RT.append(trial_dict['RT'])\n",
    "    Acc.append(trial_dict['Acc'])  \n",
    "    \n",
    "RT = np.array(RT)\n",
    "Acc = np.array(Acc)\n",
    "trial_type = np.array(trial_type)\n",
    "\n",
    "plt.bar(np.arange(3),[np.mean(RT[(trial_type==2) & Acc==1]), np.mean(RT[(trial_type==0) & Acc==1]), np.mean(RT[(trial_type==1) & Acc==1])]);\n",
    "plt.xticks([0.3, 1.3, 2.3],['Target','Absent', 'Present'])\n",
    "plt.xlim([-0.25, 3])\n",
    "plt.ylim([600, 1000])\n",
    "plt.ylabel('RT (ms)')\n",
    "\n",
    "print np.mean(RT[(trial_type==2) & Acc==1])\n",
    "print np.mean(RT[(trial_type==0) & Acc==1])\n",
    "print np.mean(RT[(trial_type==1) & Acc==1])\n",
    "\n",
    "print np.mean(Acc[trial_type==2]) \n",
    "print np.mean(Acc[trial_type==0])\n",
    "print np.mean(Acc[trial_type==1])"
   ]
  },
  {
   "cell_type": "code",
   "execution_count": 5,
   "metadata": {
    "collapsed": false
   },
   "outputs": [
    {
     "name": "stdout",
     "output_type": "stream",
     "text": [
      "762.26996873\n",
      "822.313731635\n",
      "1.0\n",
      "1.0\n"
     ]
    },
    {
     "data": {
      "image/png": "[encoded data removed]",
      "text/plain": [
       "<matplotlib.figure.Figure at 0x7f00bf7415d0>"
      ]
     },
     "metadata": {},
     "output_type": "display_data"
    }
   ],
   "source": [
    "Items = 7\n",
    "Threshold = 100\n",
    "Rate = 1\n",
    "pd_time = 250\n",
    "sigma = 1.75\n",
    "\n",
    "tar_boost = 1.25 #target uncertainty can decrease this score\n",
    "sal_boost = 7\n",
    "pd_boost = sal_boost+(sal_boost-tar_boost)/2.25\n",
    "\n",
    "RT = []\n",
    "Acc = []\n",
    "trial_type = []\n",
    "\n",
    "for trial in np.arange(1000):\n",
    "    trial_type.append(choice([0,1]))\n",
    "        \n",
    "    tar_pos = choice(np.arange(7))\n",
    "    \n",
    "    if trial_type[trial] == 0: \n",
    "        sing_pos = []\n",
    "    else:\n",
    "        sing_pos = tar_pos\n",
    "        while sing_pos == tar_pos:\n",
    "            sing_pos = choice(np.arange(7))\n",
    "            if sing_pos != tar_pos: break\n",
    "    \n",
    "    trial_dict = add_sing_trial(tar_pos,sing_pos)\n",
    "    if trial_dict['tar_pos'] == trial_dict['sing_pos']: trial_type[trial] = 2\n",
    "    RT.append(trial_dict['RT'])\n",
    "    Acc.append(trial_dict['Acc'])  \n",
    "    \n",
    "RT = np.array(RT)\n",
    "Acc = np.array(Acc)\n",
    "trial_type = np.array(trial_type)\n",
    "\n",
    "plt.bar([0, 1],[np.mean(RT[(trial_type==0) & Acc==1]), np.mean(RT[(trial_type==1) & Acc==1])]);\n",
    "plt.xticks([0.5, 1.5],['Absent', 'Present'])\n",
    "plt.xlim([-0.25, 2])\n",
    "plt.ylim([600, 1000])\n",
    "plt.ylabel('RT (ms)')\n",
    "\n",
    "print np.mean(RT[(trial_type==0) & Acc==1])\n",
    "print np.mean(RT[(trial_type==1) & Acc==1])\n",
    "\n",
    "print np.mean(Acc[trial_type==0])\n",
    "print np.mean(Acc[trial_type==1])  "
   ]
  },
  {
   "cell_type": "code",
   "execution_count": 6,
   "metadata": {
    "collapsed": false
   },
   "outputs": [
    {
     "name": "stdout",
     "output_type": "stream",
     "text": [
      "776.036717522\n",
      "763.503653522\n",
      "822.330381671\n",
      "0.988636363636\n",
      "1.0\n",
      "1.0\n"
     ]
    },
    {
     "data": {
      "image/png": "[encoded data removed]",
      "text/plain": [
       "<matplotlib.figure.Figure at 0x7f00bf796cd0>"
      ]
     },
     "metadata": {},
     "output_type": "display_data"
    }
   ],
   "source": [
    "Items = 7\n",
    "Threshold = 100\n",
    "Rate = 1\n",
    "pd_time = 250\n",
    "sigma = 1.75\n",
    "\n",
    "tar_boost = 1.25 #target uncertainty can decrease this score\n",
    "sal_boost = 7\n",
    "pd_boost = sal_boost+(sal_boost-tar_boost)/2.25\n",
    "\n",
    "RT = []\n",
    "Acc = []\n",
    "trial_type = []\n",
    "\n",
    "for trial in np.arange(1000):\n",
    "    trial_type.append(choice([0,1]))\n",
    "        \n",
    "    tar_pos = choice(np.arange(7))\n",
    "    \n",
    "    if trial_type[trial] == 0: \n",
    "        sing_pos = []\n",
    "    else:\n",
    "        sing_pos = choice(np.arange(7))\n",
    "    \n",
    "    trial_dict = add_sing_trial(tar_pos,sing_pos)\n",
    "    if trial_dict['tar_pos'] == trial_dict['sing_pos']: trial_type[trial] = 2\n",
    "    RT.append(trial_dict['RT'])\n",
    "    Acc.append(trial_dict['Acc'])  \n",
    "    \n",
    "RT = np.array(RT)\n",
    "Acc = np.array(Acc)\n",
    "trial_type = np.array(trial_type)\n",
    "\n",
    "plt.bar(np.arange(3),[np.mean(RT[(trial_type==2) & Acc==1]), np.mean(RT[(trial_type==0) & Acc==1]), np.mean(RT[(trial_type==1) & Acc==1])]);\n",
    "plt.xticks([0.3, 1.3, 2.3],['Target','Absent', 'Present'])\n",
    "plt.xlim([-0.25, 3])\n",
    "plt.ylim([600, 1000])\n",
    "plt.ylabel('RT (ms)')\n",
    "\n",
    "print np.mean(RT[(trial_type==2) & Acc==1])\n",
    "print np.mean(RT[(trial_type==0) & Acc==1])\n",
    "print np.mean(RT[(trial_type==1) & Acc==1])\n",
    "\n",
    "print np.mean(Acc[trial_type==2]) \n",
    "print np.mean(Acc[trial_type==0])\n",
    "print np.mean(Acc[trial_type==1])"
   ]
  },
  {
   "cell_type": "code",
   "execution_count": null,
   "metadata": {
    "collapsed": true
   },
   "outputs": [],
   "source": []
  }
 ],
 "metadata": {
  "kernelspec": {
   "display_name": "Python 2",
   "language": "python",
   "name": "python2"
  },
  "language_info": {
   "codemirror_mode": {
    "name": "ipython",
    "version": 2
   },
   "file_extension": ".py",
   "mimetype": "text/x-python",
   "name": "python",
   "nbconvert_exporter": "python",
   "pygments_lexer": "ipython2",
   "version": "2.7.11"
  }
 },
 "nbformat": 4,
 "nbformat_minor": 0
}
