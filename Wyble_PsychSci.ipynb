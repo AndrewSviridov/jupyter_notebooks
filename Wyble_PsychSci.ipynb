{
 "cells": [
  {
   "cell_type": "markdown",
   "metadata": {},
   "source": [
    "### Reanalysis of Chen & Wyble, 2015\n",
    "\n",
    "Chen and Wyble published an interesting paper (2015) where they demonstrate that participants cannot report attributes of attended stimuli unless the participants are previously informed that this attribute is important. For instance, you wouldn't remember the color of the apple if you had had just told someone the shape. I would have expected the opposite, so ... cool!\n",
    "\n",
    "After reading the paper (you can check it out at http://wyblelab.com/publications), I became curious whether participants might unconsciously retain some information about these forgotten attributes. Chen and Wyble posted their data to databrary.com (https://nyu.databrary.org/volume/79), so I downloaded the data and did some quick analyses that you see here! I want to commend Chen and Wyble for sharing their data. This is something everyone should start doing (including me). \n",
    "\n",
    "Below, I will start by showing I can replicate Chen and Wyble's analyses, then I will investigate whether there's a trace of unconscious memory for the \"forgotten\" features. \n",
    "\n",
    "\n",
    "##### References\n",
    "Chen, H., & Wyble, B. (2015). Amnesia for Object Attributes Failure to Report Attended Information That Had Just Reached Conscious Awareness. Psychological science, 26(2),203-210.\n",
    "\n",
    "Wyble, B. (2014). Amnesia for object attributes: Failure to report attended information that had just reached conscious awareness. Databrary. Retrieved November 22, 2015 from http://doi.org/10.17910/B7G010"
   ]
  },
  {
   "cell_type": "markdown",
   "metadata": {},
   "source": [
    "#### Load relevant libraries and write analysis functions"
   ]
  },
  {
   "cell_type": "markdown",
   "metadata": {},
   "source": [
    "I'll start by loading the python libraries that I'll use throughout analyses. "
   ]
  },
  {
   "cell_type": "code",
   "execution_count": 1,
   "metadata": {
    "collapsed": false
   },
   "outputs": [],
   "source": [
    "import numpy as np, sys, scipy.stats, pandas as pd, os, os.path, csv #loading useful libraries\n",
    "\n",
    "import matplotlib as mpl\n",
    "import matplotlib.pyplot as plt\n",
    "import pylab as pl\n",
    "%matplotlib inline\n",
    "pd.options.display.mpl_style = 'default' #load matplotlib for plotting\n",
    "plt.style.use('ggplot') #im addicted to ggplot. so pretty.\n",
    "mpl.rcParams['font.family'] = ['Bitstream Vera Sans']"
   ]
  },
  {
   "cell_type": "markdown",
   "metadata": {},
   "source": [
    "Here are some quick functions I wrote for running different statistical tests and plotting the data. I won't explain this code, but encourage you to look through it later if you're wondering how I did any of the analyses. "
   ]
  },
  {
   "cell_type": "code",
   "execution_count": 2,
   "metadata": {
    "collapsed": false
   },
   "outputs": [],
   "source": [
    "def print_tests(series1, series2): #this function just presents normality and t-tests. \n",
    "    import scipy, numpy as np #the function does these tests with arcsin(sqrt(acc)) to help with normality\n",
    "    normTest2 = scipy.stats.shapiro(np.arcsin(np.sqrt(series1))-np.arcsin(np.sqrt(series2)))\n",
    "    Test2 = scipy.stats.ttest_rel(np.arcsin(np.sqrt(series1)), np.arcsin(np.sqrt(series2)))\n",
    "    Test3 = scipy.stats.wilcoxon(np.arcsin(np.sqrt(series1)), y=np.arcsin(np.sqrt(series2)))\n",
    "    print '\\t normality test adj. Test value: %s P-value: %s' % (str(np.round(normTest2[0],2)), \n",
    "                                                                 str(np.round(normTest2[1],4)))\n",
    "    if normTest2[1] > 0.1: print '\\t T-test adj. Test value: %s P-value: %s' % (str(np.round(Test2[0],2)), \n",
    "                                                                                str(np.round(Test2[1],4)))\n",
    "    if normTest2[1] <= 0.1: print '\\t Wilcoxon. Test value: %s P-value: %s' % (str(np.round(Test3[0],2)),\n",
    "                                                                               str(np.round(Test3[1],2)))\n",
    "    \n",
    "def print_tests_ChiSq(series): #this function just presents normality and t-tests. \n",
    "    import scipy, numpy as np #the function does these tests with arcsin(sqrt(acc)) to help with normality\n",
    "    Test1 = scipy.stats.chisquare(series[1], f_exp = 0.25)\n",
    "    Test2 = scipy.stats.chisquare(series[2], f_exp = 0.25)\n",
    "    print '\\t Surprise Test. Comparison to Chance: %s P-value: %s' % (str(np.round(Test1[0],4)),\n",
    "                                                                      str(np.round(Test1[1],4)))\n",
    "    print '\\t After Surprise Test. Comparison to Chance: %s P-value: %s' % (str(np.round(Test2[0],4)),\n",
    "                                                                            str(np.round(Test2[1],4)))\n",
    "    x = scipy.stats.chi2_contingency([[sum(series[1]==1),sum(series[2]==1)], [sum(series[1]==0),sum(series[2]==0)]],\n",
    "                                     correction=False) \n",
    "    print '\\t Chi-Square Comparison: %s P-value: %s' % (str(np.round(x[0],4)),str(np.round(x[1],4)))\n",
    "    \n",
    "def Analysis_and_Plot(tableRT2, CIs): #this function plots the data and writes the results, including stats tests\n",
    "    PlotFrame = pd.DataFrame([tableRT2.mean()])\n",
    "    PlotFrame.columns = ['Presurprise', 'Surprise', 'Post surprise']\n",
    "    PlotFrame2 = pd.DataFrame([CIs])\n",
    "    PlotFrame2.columns = ['Presurprise', 'Surprise', 'Post surprise']\n",
    "    PlotFrame.plot(ylim = [0, 1], yerr=PlotFrame2, kind='bar')\n",
    "    plt.xticks(range(1), ['Trial Type'], rotation=0);\n",
    "\n",
    "    print '---------------------------------'\n",
    "    print 'Mean Presurprise: %s' % (str(round(np.mean(tableRT2[0]),2)))\n",
    "    print 'Mean Surprise: %s' % (str(round(np.mean(tableRT2[1]),2)))\n",
    "    print 'Mean Postsurprise: %s' % (str(round(np.mean(tableRT2[2]),2)))\n",
    "    print 'Presurprise - Surprise: %s' % (str(round(np.mean(tableRT2[0])-np.mean(tableRT2[1]),2)))\n",
    "    print 'Postsurprise - Surprise: %s' % (str(round(np.mean(tableRT2[2])-np.mean(tableRT2[1]),2)))\n",
    "    print 'Postsurprise - Presurprise: %s' % (str(round(np.mean(tableRT2[0])-np.mean(tableRT2[1]),2)))\n",
    "    print '---------------------------------'\n",
    "    print 'Presurprise vs Surprise'\n",
    "    print_tests(tableRT2[1],tableRT2[0])\n",
    "    print 'Postsuprise vs Surprise'\n",
    "    print_tests(tableRT2[2],tableRT2[1])\n",
    "    print 'Presurprise vs Postsurprise'\n",
    "    print_tests(tableRT2[0],tableRT2[2])\n",
    "    \n",
    "def Analysis_and_Plot_2(tableRT2, CIs): #this function also plots the data and prints results.\n",
    "    PlotFrame = pd.DataFrame([tableRT2.mean()]) #I could probably consolidate these functions, but whatever. This works.\n",
    "    PlotFrame.columns = ['Surprise', 'Postsurprise']\n",
    "    PlotFrame.plot(ylim = [0, 1], kind='bar')#yerr=PlotFrame2, kind='bar')\n",
    "    plt.xticks(range(1), ['Trial Type'], rotation=0);\n",
    "\n",
    "    print '---------------------------------'\n",
    "    print 'Mean Surprise: %s' % (str(round(np.mean(tableRT2[1]),2)))\n",
    "    print 'Mean Postsurprise: %s' % (str(round(np.mean(tableRT2[2]),2)))\n",
    "    print 'Postsurprise - Surprise: %s' % (str(round(np.mean(tableRT2[2])-np.mean(tableRT2[1]),2)))\n",
    "    print '---------------------------------'\n",
    "    print 'Postsurprise vs Surprise'\n",
    "    print_tests_ChiSq(tableRT2)\n",
    "    \n",
    "def Analysis_and_Plot_3(tableRT2, CIs): #another plotting function...i should really consolidate these.\n",
    "    PlotFrame = pd.DataFrame([tableRT2.mean()])\n",
    "    PlotFrame.columns = ['Match', 'Mismatch']\n",
    "    PlotFrame2 = pd.DataFrame()\n",
    "    PlotFrame2['Match'] = pd.DataFrame([CIs])\n",
    "    PlotFrame2['Mismatch'] = pd.DataFrame([CIs])\n",
    "    PlotFrame.plot(ylim = [0, 1], yerr=PlotFrame2, kind='bar')\n",
    "    plt.xticks(range(1), ['Trial Type'], rotation=0);\n",
    "\n",
    "    #disp_tab = np.round(tableRT2,2)\n",
    "    #disp_tab['Match-Mismatch'] = disp_tab[1] - disp_tab[2]\n",
    "    #print disp_tab\n",
    "\n",
    "    print '---------------------------------'\n",
    "    print 'Mean match: %s' % (str(round(np.mean(tableRT2[1]),4)))\n",
    "    print 'Mean mismatch: %s' % (str(round(np.mean(tableRT2[2]),4)))\n",
    "    print 'Match - Mismatch: %s' % (str(round(np.mean(tableRT2[1])-np.mean(tableRT2[2]),4)))\n",
    "    print '---------------------------------'\n",
    "    print 'Match vs Mismatch'\n",
    "    print_tests(tableRT2[1],tableRT2[2])\n",
    "    \n",
    "def OneWayConfInterval(table): #Calculates confidence intervals for a one way anova, this is Cousineau, Morey ect\n",
    "    import scipy.stats, numpy\n",
    "    ParticipantsMeans = []\n",
    "    STEs = []\n",
    "    CIs = []\n",
    "    for participant in table.index:\n",
    "        mean = []\n",
    "        for condition in xrange(numpy.shape(table)[1]): #there's definitely a better way to do this, but this works...\n",
    "            mean.append(np.array(table[table.index==participant][condition]))\n",
    "        ParticipantsMeans.append(sum(mean)/len(mean))\n",
    "    ConfMeans = numpy.zeros(shape=numpy.shape(table))\n",
    "    for counter, participant in enumerate(table.index):\n",
    "        for condition in xrange(numpy.shape(table)[1]):\n",
    "            ConfMeans[counter][condition] = table[table.index==participant][condition]-\\\n",
    "            ParticipantsMeans[counter]+numpy.array(ParticipantsMeans).mean()\n",
    "    for counter, column in enumerate(ConfMeans.T):\n",
    "        STEs.append(numpy.std(column, ddof=1)/numpy.sqrt(len(column)))\n",
    "        CIs.append(STEs[counter]*scipy.stats.t.isf(0.025, len(ConfMeans)-1))\n",
    "    return CIs\n",
    "\n",
    "def SimpleComparisonCI(table): #confidence interval for pairwise comparisons - masson & loftus, Baguley (2012)\n",
    "    import scipy.stats, math\n",
    "    ttest = scipy.stats.ttest_rel(table[1], table[2])\n",
    "    MeanDiff_byT = abs((table[1].mean()-table[2].mean())/ttest[0])\n",
    "    CI = MeanDiff_byT*scipy.stats.t.isf(0.025, len(table)-1)*math.pow(2,0.05)/2\n",
    "    return CI"
   ]
  },
  {
   "cell_type": "markdown",
   "metadata": {},
   "source": [
    "#### Experiment 1"
   ]
  },
  {
   "cell_type": "markdown",
   "metadata": {},
   "source": [
    "Next, load Experiment 1 data"
   ]
  },
  {
   "cell_type": "code",
   "execution_count": 3,
   "metadata": {
    "collapsed": false
   },
   "outputs": [],
   "source": [
    "filename = 'Exp1.csv' #looking at Exp1 data first. \n",
    "\n",
    "if sys.platform == 'linux2': #is this my linux laptop\n",
    "    path = '/home/dan-laptop/Documents/Databrary/Wyble_PsychSci'\n",
    "elif sys.platform == 'darwin': #is this my mac work comp    \n",
    "    path = '/Users/danvatterott/Dropbox Encore/Dropbox/Databrary/Wyble_PsychSci'\n",
    "\n",
    "os.chdir(path)\n",
    "\n",
    "df = pd.read_csv(filename)\n",
    "\n",
    "df.columns = ['Sub#', 'Block', 'Trial#', 'TarCol', 'Tar_Iden','Tar_Loc', 'Col_Resp', 'Iden_Resp', 'Loc_Resp', \n",
    "             'Col_Acc', 'Iden_Acc', 'Loc_Acc'] #naming the columns of the data file."
   ]
  },
  {
   "cell_type": "markdown",
   "metadata": {},
   "source": [
    "The data is loaded, lets just take a quick look at the data after loading it in. "
   ]
  },
  {
   "cell_type": "code",
   "execution_count": 4,
   "metadata": {
    "collapsed": false
   },
   "outputs": [
    {
     "data": {
      "text/html": [
       "<div>\n",
       "<table border=\"1\" class=\"dataframe\">\n",
       "  <thead>\n",
       "    <tr style=\"text-align: right;\">\n",
       "      <th></th>\n",
       "      <th>Sub#</th>\n",
       "      <th>Block</th>\n",
       "      <th>Trial#</th>\n",
       "      <th>TarCol</th>\n",
       "      <th>Tar_Iden</th>\n",
       "      <th>Tar_Loc</th>\n",
       "      <th>Col_Resp</th>\n",
       "      <th>Iden_Resp</th>\n",
       "      <th>Loc_Resp</th>\n",
       "      <th>Col_Acc</th>\n",
       "      <th>Iden_Acc</th>\n",
       "      <th>Loc_Acc</th>\n",
       "    </tr>\n",
       "  </thead>\n",
       "  <tbody>\n",
       "    <tr>\n",
       "      <th>0</th>\n",
       "      <td>6</td>\n",
       "      <td>1</td>\n",
       "      <td>2</td>\n",
       "      <td>1</td>\n",
       "      <td>2</td>\n",
       "      <td>4</td>\n",
       "      <td>0</td>\n",
       "      <td>0</td>\n",
       "      <td>2</td>\n",
       "      <td>0</td>\n",
       "      <td>0</td>\n",
       "      <td>0</td>\n",
       "    </tr>\n",
       "    <tr>\n",
       "      <th>1</th>\n",
       "      <td>6</td>\n",
       "      <td>1</td>\n",
       "      <td>3</td>\n",
       "      <td>3</td>\n",
       "      <td>4</td>\n",
       "      <td>3</td>\n",
       "      <td>0</td>\n",
       "      <td>0</td>\n",
       "      <td>3</td>\n",
       "      <td>0</td>\n",
       "      <td>0</td>\n",
       "      <td>1</td>\n",
       "    </tr>\n",
       "    <tr>\n",
       "      <th>2</th>\n",
       "      <td>6</td>\n",
       "      <td>1</td>\n",
       "      <td>4</td>\n",
       "      <td>1</td>\n",
       "      <td>3</td>\n",
       "      <td>1</td>\n",
       "      <td>0</td>\n",
       "      <td>0</td>\n",
       "      <td>1</td>\n",
       "      <td>0</td>\n",
       "      <td>0</td>\n",
       "      <td>1</td>\n",
       "    </tr>\n",
       "    <tr>\n",
       "      <th>3</th>\n",
       "      <td>6</td>\n",
       "      <td>1</td>\n",
       "      <td>5</td>\n",
       "      <td>3</td>\n",
       "      <td>1</td>\n",
       "      <td>4</td>\n",
       "      <td>0</td>\n",
       "      <td>0</td>\n",
       "      <td>4</td>\n",
       "      <td>0</td>\n",
       "      <td>0</td>\n",
       "      <td>1</td>\n",
       "    </tr>\n",
       "    <tr>\n",
       "      <th>4</th>\n",
       "      <td>6</td>\n",
       "      <td>1</td>\n",
       "      <td>6</td>\n",
       "      <td>2</td>\n",
       "      <td>2</td>\n",
       "      <td>1</td>\n",
       "      <td>0</td>\n",
       "      <td>0</td>\n",
       "      <td>1</td>\n",
       "      <td>0</td>\n",
       "      <td>0</td>\n",
       "      <td>1</td>\n",
       "    </tr>\n",
       "  </tbody>\n",
       "</table>\n",
       "</div>"
      ],
      "text/plain": [
       "   Sub#  Block  Trial#  TarCol  Tar_Iden  Tar_Loc  Col_Resp  Iden_Resp  \\\n",
       "0     6      1       2       1         2        4         0          0   \n",
       "1     6      1       3       3         4        3         0          0   \n",
       "2     6      1       4       1         3        1         0          0   \n",
       "3     6      1       5       3         1        4         0          0   \n",
       "4     6      1       6       2         2        1         0          0   \n",
       "\n",
       "   Loc_Resp  Col_Acc  Iden_Acc  Loc_Acc  \n",
       "0         2        0         0        0  \n",
       "1         3        0         0        1  \n",
       "2         1        0         0        1  \n",
       "3         4        0         0        1  \n",
       "4         1        0         0        1  "
      ]
     },
     "execution_count": 4,
     "metadata": {},
     "output_type": "execute_result"
    }
   ],
   "source": [
    "df[0:5]"
   ]
  },
  {
   "cell_type": "markdown",
   "metadata": {},
   "source": [
    "I want to create a new variable. \n",
    "\n",
    "Before explaining the new variable, I should explain a little about Chen and Wyble's experiment. Half the participants were instructed to find the letter among numbers and the other half were instructed to find the number among letters. 4 items were briefly flashed on the screen (150 ms) then participants reported where the target item had been. Each of the 4 items was a different color. \n",
    "\n",
    "Participants reported target location for 155 trials. On the 156th trial, the participants reported the target location then (to their surprise) reported what specific letter/number the target was and what color it was. Even though participants knew where the target was, they had no idea what either the target's letter/number or color were. They had \"forgotten\" what the target was (even though they must have known what the target was when they initially located it). \n",
    "\n",
    "The new variable will code whether the trial is a \"pre-surprise\" trial (trials 1-155), a surprise trial (trial 156) or the trial after the surprise (trial 157).\n",
    "\n",
    "I'll call this variable \"TrialType\"\n",
    "\n",
    "TrialType: 0=Presurprise; 1=Surprise Trial; 2=Postsurprise trials."
   ]
  },
  {
   "cell_type": "code",
   "execution_count": 5,
   "metadata": {
    "collapsed": true
   },
   "outputs": [],
   "source": [
    "df['TrialType'] = np.where(df['Trial#']<156, 0, np.where(df['Trial#']==156, 1, 2))\n",
    "df['TrialType2'] = np.where(df['Trial#']<156, 0, np.where(df['Trial#']==156, 1, np.where(df['Trial#']==157, 2, -1)))"
   ]
  },
  {
   "cell_type": "markdown",
   "metadata": {},
   "source": [
    "#### Experiment 1: Replicating Chen & Wyble's (2015) analyses"
   ]
  },
  {
   "cell_type": "markdown",
   "metadata": {},
   "source": [
    "Lets just take a quick look at overall accuracy. Make sure everyone is doing ok on the task. Below I plot the mean accuracy of each participant...looks like participant 23 struggled a little. Chen and Wyble (2015) notes that no participants were excluded or replaced. \n",
    "\n",
    "I might have replaced participant 23 since his/her accuracy is easily 2.5 standard deviations below the mean accuracy (I print this value below)...seems like participant 23 was doing something different in this task."
   ]
  },
  {
   "cell_type": "code",
   "execution_count": 6,
   "metadata": {
    "collapsed": false
   },
   "outputs": [
    {
     "name": "stdout",
     "output_type": "stream",
     "text": [
      "mean accuracy\n",
      "0.89\n",
      "standard deviation of accuracies\n",
      "0.07\n",
      "2.5 standard deviations below mean accuracy\n",
      "0.71\n"
     ]
    },
    {
     "data": {
      "image/png": "[encoded data removed]",
      "text/plain": [
       "<matplotlib.figure.Figure at 0x7f64887c8790>"
      ]
     },
     "metadata": {},
     "output_type": "display_data"
    }
   ],
   "source": [
    "tableAcc = df.pivot_table(values='Loc_Acc', index='Sub#', aggfunc=np.mean)\n",
    "#print tableAcc\n",
    "print 'mean accuracy'\n",
    "print np.round(np.mean(tableAcc),2)\n",
    "print 'standard deviation of accuracies'\n",
    "print np.round(np.std(tableAcc),2)\n",
    "\n",
    "print '2.5 standard deviations below mean accuracy'\n",
    "print np.round(np.mean(tableAcc)-2.5*np.std(tableAcc),2)\n",
    "\n",
    "tableAcc.plot(ylim = [0, 1], kind='bar');"
   ]
  },
  {
   "cell_type": "markdown",
   "metadata": {},
   "source": [
    "Lets look at participants' performance when asked to identify the target's location. I will plot performance as mean accuracy in the presurprise,surprise, and postsurprose trials. \n",
    "\n",
    "I will also run some quick statistical tests. For these tests, I take the arcsine of the square root of the accuracies (Rao, 1960) to increase the accuracies' normality (I use adj. to indiciate that the tested data is transformed). I test whether this worked with a Shapiro-Wilk test of normality. If the p-value of the Shapiro-Wilk test is greater than 0.1, I run a t test to see if the accuracy in the two conditions is significantly different. If the p-value of the Shapiro-Wilk test is less than or equal to 0.1, then I run a Wilcoxon signed rank test since this test does not care about normality. "
   ]
  },
  {
   "cell_type": "code",
   "execution_count": 7,
   "metadata": {
    "collapsed": false
   },
   "outputs": [
    {
     "name": "stdout",
     "output_type": "stream",
     "text": [
      "---------------------------------\n",
      "Mean Presurprise: 0.89\n",
      "Mean Surprise: 0.8\n",
      "Mean Postsurprise: 0.79\n",
      "Presurprise - Surprise: 0.09\n",
      "Postsurprise - Surprise: -0.01\n",
      "Postsurprise - Presurprise: 0.09\n",
      "---------------------------------\n",
      "Presurprise vs Surprise\n",
      "\t normality test adj. Test value: 0.64 P-value: 0.0\n",
      "\t Wilcoxon. Test value: 74.0 P-value: 0.25\n",
      "Postsuprise vs Surprise\n",
      "\t normality test adj. Test value: 0.8 P-value: 0.001\n",
      "\t Wilcoxon. Test value: 33.0 P-value: 0.63\n",
      "Presurprise vs Postsurprise\n",
      "\t normality test adj. Test value: 0.94 P-value: 0.2857\n",
      "\t T-test adj. Test value: 0.92 P-value: 0.3695\n"
     ]
    },
    {
     "data": {
      "image/png": "[encoded data removed]",
      "text/plain": [
       "<matplotlib.figure.Figure at 0x7f6488646b50>"
      ]
     },
     "metadata": {},
     "output_type": "display_data"
    }
   ],
   "source": [
    "Loc_Acc = df.pivot_table(values='Loc_Acc', index='Sub#', columns='TrialType', aggfunc=np.mean)\n",
    "CIs = np.array(OneWayConfInterval(Loc_Acc))\n",
    "Analysis_and_Plot(Loc_Acc, CIs)"
   ]
  },
  {
   "cell_type": "markdown",
   "metadata": {},
   "source": [
    "Replicating Chen and Wyble, participants perform no worse in the surprise and post surprise trials, indicating that they succesfully found the target. "
   ]
  },
  {
   "cell_type": "markdown",
   "metadata": {},
   "source": [
    "Now lets look at participants' ability to report the target's color in the surprise trial and the trial immediately following the surprise test.\n",
    "\n",
    "Below I plot the percent of participants that correctly identified the target's color in the surprise and post-surprise trials"
   ]
  },
  {
   "cell_type": "code",
   "execution_count": 8,
   "metadata": {
    "collapsed": false
   },
   "outputs": [
    {
     "name": "stdout",
     "output_type": "stream",
     "text": [
      "---------------------------------\n",
      "Mean Surprise: 0.3\n",
      "Mean Postsurprise: 0.7\n",
      "Postsurprise - Surprise: 0.4\n",
      "---------------------------------\n",
      "Postsurprise vs Surprise\n",
      "\t Surprise Test. Comparison to Chance: 17.0 P-value: 0.5899\n",
      "\t After Surprise Test. Comparison to Chance: 33.0 P-value: 0.024\n",
      "\t Chi-Square Comparison: 6.4 P-value: 0.0114\n"
     ]
    },
    {
     "data": {
      "image/png": "[encoded data removed]",
      "text/plain": [
       "<matplotlib.figure.Figure at 0x7f6484c86f10>"
      ]
     },
     "metadata": {},
     "output_type": "display_data"
    }
   ],
   "source": [
    "Trial_Trimmer = df['TrialType2'] > 0\n",
    "Col_Acc = df[Trial_Trimmer].pivot_table(values='Col_Acc', index='Sub#', columns='TrialType2', aggfunc=np.mean)\n",
    "CIs = SimpleComparisonCI(Col_Acc)\n",
    "Analysis_and_Plot_2(Col_Acc, CIs)"
   ]
  },
  {
   "cell_type": "markdown",
   "metadata": {},
   "source": [
    "We perfectly replicate Chen and Wyble; participants respond more accurarely in the post-surprise trial than in the surprise trial. "
   ]
  },
  {
   "cell_type": "markdown",
   "metadata": {},
   "source": [
    "The next cell examines participants' ability to report the target's identity on the surprise trial and the trial immediately following the surprise trial. Remember, the participants locate the target based on whether its a letter or number, so they know the broad category of the target. Nonetheless, they cannot report the target's identity on the surprise trial"
   ]
  },
  {
   "cell_type": "code",
   "execution_count": 9,
   "metadata": {
    "collapsed": false
   },
   "outputs": [
    {
     "name": "stdout",
     "output_type": "stream",
     "text": [
      "---------------------------------\n",
      "Mean Surprise: 0.25\n",
      "Mean Postsurprise: 0.75\n",
      "Postsurprise - Surprise: 0.5\n",
      "---------------------------------\n",
      "Postsurprise vs Surprise\n",
      "\t Surprise Test. Comparison to Chance: 15.0 P-value: 0.7226\n",
      "\t After Surprise Test. Comparison to Chance: 35.0 P-value: 0.014\n",
      "\t Chi-Square Comparison: 10.0 P-value: 0.0016\n"
     ]
    },
    {
     "data": {
      "image/png": "[encoded data removed]",
      "text/plain": [
       "<matplotlib.figure.Figure at 0x7f6484c03dd0>"
      ]
     },
     "metadata": {},
     "output_type": "display_data"
    }
   ],
   "source": [
    "Trial_Trimmer = df['TrialType2'] > 0\n",
    "Iden_Acc = df[Trial_Trimmer].pivot_table(values='Iden_Acc', index='Sub#', columns='TrialType2', aggfunc=np.mean)\n",
    "CIs = SimpleComparisonCI(Iden_Acc)\n",
    "Analysis_and_Plot_2(Iden_Acc, CIs)"
   ]
  },
  {
   "cell_type": "markdown",
   "metadata": {},
   "source": [
    "#### Experiment 1 - Intertrial analyses"
   ]
  },
  {
   "cell_type": "markdown",
   "metadata": {},
   "source": [
    "So far, I've perfectly replicated Chen & Wyble (which is good since this is their data). \n",
    "\n",
    "Now I want to see if the target's color or identity on the previous trial influences the current trial's performance in the location task. I am only examining presurprise trials, so this should be trials when the participants don't \"remember\" the target's color or identity.\n",
    "\n",
    "First I want to make some variables representing whether the target's color and identity repeat across trials."
   ]
  },
  {
   "cell_type": "code",
   "execution_count": 10,
   "metadata": {
    "collapsed": true
   },
   "outputs": [],
   "source": [
    "df['Prev_TarCol'] = df['TarCol'].shift(periods=1)\n",
    "df['Prev_TarCol_match'] = np.where(df['Prev_TarCol']==df['TarCol'], 1, 2)\n",
    "df['Prev_Iden'] = df['Tar_Iden'].shift(periods=1)\n",
    "df['Prev_Iden_match'] = np.where(df['Prev_Iden']==df['Tar_Iden'], 1, 2)\n",
    "df['Prev_Col+Iden_match'] = np.where((df['Prev_Iden_match']==1) & (df['Prev_TarCol_match']==1), 1, 2)"
   ]
  },
  {
   "cell_type": "markdown",
   "metadata": {},
   "source": [
    "Lets see what happens when the target's color and identity repeat. "
   ]
  },
  {
   "cell_type": "code",
   "execution_count": 11,
   "metadata": {
    "collapsed": false
   },
   "outputs": [
    {
     "name": "stdout",
     "output_type": "stream",
     "text": [
      "---------------------------------\n",
      "Mean match: 0.918\n",
      "Mean mismatch: 0.8925\n",
      "Match - Mismatch: 0.0255\n",
      "---------------------------------\n",
      "Match vs Mismatch\n",
      "\t normality test adj. Test value: 0.92 P-value: 0.0821\n",
      "\t Wilcoxon. Test value: 51.0 P-value: 0.04\n"
     ]
    },
    {
     "data": {
      "image/png": "[encoded data removed]",
      "text/plain": [
       "<matplotlib.figure.Figure at 0x7f6484b45e50>"
      ]
     },
     "metadata": {},
     "output_type": "display_data"
    }
   ],
   "source": [
    "Trial_Trimmer = df['TrialType'] == 0\n",
    "ColandIden_Acc1 = df[Trial_Trimmer].pivot_table(values='Loc_Acc', index='Sub#', columns='Prev_Col+Iden_match',\n",
    "                                                aggfunc=np.mean)\n",
    "CIs = SimpleComparisonCI(ColandIden_Acc1)\n",
    "Analysis_and_Plot_3(ColandIden_Acc1, CIs)"
   ]
  },
  {
   "cell_type": "markdown",
   "metadata": {
    "collapsed": false
   },
   "source": [
    "Looks like a 2.5% increase in accuracy. This time significant. Now, this wasn't really a planned comparison, so please take this result with a grain of salt."
   ]
  },
  {
   "cell_type": "markdown",
   "metadata": {},
   "source": [
    "As a sanity check, lets look at how repetitions in the target's location (the reported feature) effect performance. \n",
    "\n",
    "We have to quickly create a new variable coding target location repetitions"
   ]
  },
  {
   "cell_type": "code",
   "execution_count": 12,
   "metadata": {
    "collapsed": true
   },
   "outputs": [],
   "source": [
    "df['Prev_Loc'] = df['Tar_Loc'].shift(periods=1)\n",
    "df['Prev_Loc_match'] = np.where(df['Prev_Loc']==df['Tar_Loc'], 1, 2)"
   ]
  },
  {
   "cell_type": "code",
   "execution_count": 13,
   "metadata": {
    "collapsed": false
   },
   "outputs": [
    {
     "name": "stdout",
     "output_type": "stream",
     "text": [
      "---------------------------------\n",
      "Mean match: 0.9101\n",
      "Mean mismatch: 0.8883\n",
      "Match - Mismatch: 0.0218\n",
      "---------------------------------\n",
      "Match vs Mismatch\n",
      "\t normality test adj. Test value: 0.93 P-value: 0.1812\n",
      "\t T-test adj. Test value: 2.62 P-value: 0.0168\n"
     ]
    },
    {
     "data": {
      "image/png": "[encoded data removed]",
      "text/plain": [
       "<matplotlib.figure.Figure at 0x7f6484c28410>"
      ]
     },
     "metadata": {},
     "output_type": "display_data"
    }
   ],
   "source": [
    "Trial_Trimmer = df['TrialType'] == 0\n",
    "Loc_Acc1 = df[Trial_Trimmer].pivot_table(values='Loc_Acc', index='Sub#', columns='Prev_Loc_match', aggfunc=np.mean)\n",
    "CIs = SimpleComparisonCI(Loc_Acc1)\n",
    "Analysis_and_Plot_3(Loc_Acc1, CIs)"
   ]
  },
  {
   "cell_type": "markdown",
   "metadata": {},
   "source": [
    "Target location repetitions lead to a 2% increase in performance. Again, this result is robust. \n",
    "\n",
    "It's a good sign that this effect is about the same size as repetitions in the unreported features."
   ]
  },
  {
   "cell_type": "markdown",
   "metadata": {},
   "source": [
    "### Replicate Experiments 1 Intertrial Analyses with Experiment 1b"
   ]
  },
  {
   "cell_type": "markdown",
   "metadata": {},
   "source": [
    "Experiment 1 had some evidence that participants unconsciously knew the color and identity of the target, since they performed a little better when the color and identity repeated. The effect was small, so I am not 100% confident that it's robust. \n",
    "\n",
    "The best way to demonstrate that this effect is real would be to show that it also exists in another similar Experiment. Chen and Wyble provide a replication of Experiment 1. In this experiment, the only difference is the target and distractors appear for longer and are not masked (making them easier to see). \n",
    "\n",
    "If participants response more accurately when the target color and identity repeat in Experiment 1b, then we can be a little more confident that participants are unconsciously aware of the target's color and identity. "
   ]
  },
  {
   "cell_type": "code",
   "execution_count": 14,
   "metadata": {
    "collapsed": false
   },
   "outputs": [],
   "source": [
    "filename = 'Exp1b.csv'\n",
    "df = pd.read_csv(filename)\n",
    "df.columns = ['Sub#', 'Block', 'Trial#', 'TarCol', 'Tar_Iden','Tar_Loc', 'Col_Resp', 'Iden_Resp', 'Loc_Resp', \n",
    "             'Col_Acc', 'Iden_Acc', 'Loc_Acc'] #naming the columns of the data file.\n",
    "\n",
    "df['TrialType'] = np.where(df['Trial#']<156, 0, np.where(df['Trial#']==156, 1, 2))\n",
    "df['TrialType2'] = np.where(df['Trial#']<156, 0, np.where(df['Trial#']==156, 1, np.where(df['Trial#']==157, 2, -1)))\n",
    "\n",
    "df['Prev_TarCol'] = df['TarCol'].shift(periods=1)\n",
    "df['Prev_TarCol_match'] = np.where(df['Prev_TarCol']==df['TarCol'], 1, 2)\n",
    "df['Prev_Iden'] = df['Tar_Iden'].shift(periods=1)\n",
    "df['Prev_Iden_match'] = np.where(df['Prev_Iden']==df['Tar_Iden'], 1, 2)\n",
    "df['Prev_Col+Iden_match'] = np.where((df['Prev_Iden_match']==1) & (df['Prev_TarCol_match']==1), 1, 2)\n",
    "\n",
    "Trial_Trimmer = df['TrialType'] == 0 #only interested in pre-surprise trials\n",
    "ColandIden_Acc = df[Trial_Trimmer].pivot_table(values='Loc_Acc', index='Sub#', \n",
    "                                               columns='Prev_Col+Iden_match', aggfunc=np.mean)"
   ]
  },
  {
   "cell_type": "code",
   "execution_count": 15,
   "metadata": {
    "collapsed": false
   },
   "outputs": [
    {
     "name": "stdout",
     "output_type": "stream",
     "text": [
      "---------------------------------\n",
      "Mean match: 0.9716\n",
      "Mean mismatch: 0.9644\n",
      "Match - Mismatch: 0.0072\n",
      "---------------------------------\n",
      "Match vs Mismatch\n",
      "\t normality test adj. Test value: 0.93 P-value: 0.1875\n",
      "\t T-test adj. Test value: 2.81 P-value: 0.0112\n"
     ]
    },
    {
     "data": {
      "image/png": "[encoded data removed]",
      "text/plain": [
       "<matplotlib.figure.Figure at 0x7f6484b73190>"
      ]
     },
     "metadata": {},
     "output_type": "display_data"
    }
   ],
   "source": [
    "CIs = SimpleComparisonCI(ColandIden_Acc)\n",
    "Analysis_and_Plot_3(ColandIden_Acc, CIs)"
   ]
  },
  {
   "cell_type": "markdown",
   "metadata": {},
   "source": [
    "Wow. Only a 1% change in accuracy, so again not big. Nonetheless, this result is signficant. So, Some evidence that participants perform a little better when the targets' color and identity repeat. \n",
    "\n",
    "This suggests that participants retain some information about the targets' color and identity even though they cannot explicitly report these attributes. \n",
    "\n",
    "Now, I would probably want to replicate this result again before trusting it, but I'm relatively confident that participants unconsciously retain some information about the target's color and identity.\n",
    "\n"
   ]
  },
  {
   "cell_type": "code",
   "execution_count": 16,
   "metadata": {
    "collapsed": false
   },
   "outputs": [
    {
     "name": "stdout",
     "output_type": "stream",
     "text": [
      "0.857142857143\n",
      "1.0\n",
      "0.864864864865\n",
      "0.993197278912\n"
     ]
    },
    {
     "data": {
      "image/png": "[encoded data removed]",
      "text/plain": [
       "<matplotlib.figure.Figure at 0x7f64848c77d0>"
      ]
     },
     "metadata": {},
     "output_type": "display_data"
    }
   ],
   "source": [
    "def Histograms(df1,df2):\n",
    "    x=np.array(df1)\n",
    "    print np.min(x)\n",
    "    print np.max(x)\n",
    "    pl.hist(x, 20, normed=1,histtype='bar', rwidth=0.80)\n",
    "    x=np.array(df2)\n",
    "    print np.min(x)\n",
    "    print np.max(x)\n",
    "    pl.hist(x, 20, normed=1, histtype='bar', rwidth=0.80);\n",
    "\n",
    "Histograms(ColandIden_Acc[1],ColandIden_Acc[2])"
   ]
  },
  {
   "cell_type": "code",
   "execution_count": 17,
   "metadata": {
    "collapsed": false
   },
   "outputs": [
    {
     "data": {
      "text/html": [
       "<div>\n",
       "<table border=\"1\" class=\"dataframe\">\n",
       "  <thead>\n",
       "    <tr style=\"text-align: right;\">\n",
       "      <th>Prev_Col+Iden_match</th>\n",
       "      <th>1</th>\n",
       "      <th>2</th>\n",
       "    </tr>\n",
       "    <tr>\n",
       "      <th>Sub#</th>\n",
       "      <th></th>\n",
       "      <th></th>\n",
       "    </tr>\n",
       "  </thead>\n",
       "  <tbody>\n",
       "    <tr>\n",
       "      <th>12</th>\n",
       "      <td>1.000000</td>\n",
       "      <td>0.992908</td>\n",
       "    </tr>\n",
       "    <tr>\n",
       "      <th>13</th>\n",
       "      <td>0.857143</td>\n",
       "      <td>0.959459</td>\n",
       "    </tr>\n",
       "    <tr>\n",
       "      <th>14</th>\n",
       "      <td>1.000000</td>\n",
       "      <td>0.993056</td>\n",
       "    </tr>\n",
       "    <tr>\n",
       "      <th>15</th>\n",
       "      <td>1.000000</td>\n",
       "      <td>0.944444</td>\n",
       "    </tr>\n",
       "    <tr>\n",
       "      <th>16</th>\n",
       "      <td>0.909091</td>\n",
       "      <td>0.965278</td>\n",
       "    </tr>\n",
       "    <tr>\n",
       "      <th>17</th>\n",
       "      <td>1.000000</td>\n",
       "      <td>0.979452</td>\n",
       "    </tr>\n",
       "    <tr>\n",
       "      <th>18</th>\n",
       "      <td>0.933333</td>\n",
       "      <td>0.964286</td>\n",
       "    </tr>\n",
       "    <tr>\n",
       "      <th>19</th>\n",
       "      <td>0.875000</td>\n",
       "      <td>0.959184</td>\n",
       "    </tr>\n",
       "    <tr>\n",
       "      <th>20</th>\n",
       "      <td>1.000000</td>\n",
       "      <td>0.993151</td>\n",
       "    </tr>\n",
       "    <tr>\n",
       "      <th>21</th>\n",
       "      <td>0.857143</td>\n",
       "      <td>0.864865</td>\n",
       "    </tr>\n",
       "    <tr>\n",
       "      <th>53</th>\n",
       "      <td>1.000000</td>\n",
       "      <td>0.993197</td>\n",
       "    </tr>\n",
       "    <tr>\n",
       "      <th>54</th>\n",
       "      <td>1.000000</td>\n",
       "      <td>0.993197</td>\n",
       "    </tr>\n",
       "    <tr>\n",
       "      <th>55</th>\n",
       "      <td>1.000000</td>\n",
       "      <td>0.979310</td>\n",
       "    </tr>\n",
       "    <tr>\n",
       "      <th>56</th>\n",
       "      <td>1.000000</td>\n",
       "      <td>0.901408</td>\n",
       "    </tr>\n",
       "    <tr>\n",
       "      <th>57</th>\n",
       "      <td>1.000000</td>\n",
       "      <td>0.986395</td>\n",
       "    </tr>\n",
       "    <tr>\n",
       "      <th>58</th>\n",
       "      <td>1.000000</td>\n",
       "      <td>0.979592</td>\n",
       "    </tr>\n",
       "    <tr>\n",
       "      <th>59</th>\n",
       "      <td>1.000000</td>\n",
       "      <td>0.944444</td>\n",
       "    </tr>\n",
       "    <tr>\n",
       "      <th>60</th>\n",
       "      <td>1.000000</td>\n",
       "      <td>0.986577</td>\n",
       "    </tr>\n",
       "    <tr>\n",
       "      <th>61</th>\n",
       "      <td>1.000000</td>\n",
       "      <td>0.986486</td>\n",
       "    </tr>\n",
       "    <tr>\n",
       "      <th>62</th>\n",
       "      <td>1.000000</td>\n",
       "      <td>0.921986</td>\n",
       "    </tr>\n",
       "  </tbody>\n",
       "</table>\n",
       "</div>"
      ],
      "text/plain": [
       "Prev_Col+Iden_match         1         2\n",
       "Sub#                                   \n",
       "12                   1.000000  0.992908\n",
       "13                   0.857143  0.959459\n",
       "14                   1.000000  0.993056\n",
       "15                   1.000000  0.944444\n",
       "16                   0.909091  0.965278\n",
       "17                   1.000000  0.979452\n",
       "18                   0.933333  0.964286\n",
       "19                   0.875000  0.959184\n",
       "20                   1.000000  0.993151\n",
       "21                   0.857143  0.864865\n",
       "53                   1.000000  0.993197\n",
       "54                   1.000000  0.993197\n",
       "55                   1.000000  0.979310\n",
       "56                   1.000000  0.901408\n",
       "57                   1.000000  0.986395\n",
       "58                   1.000000  0.979592\n",
       "59                   1.000000  0.944444\n",
       "60                   1.000000  0.986577\n",
       "61                   1.000000  0.986486\n",
       "62                   1.000000  0.921986"
      ]
     },
     "execution_count": 17,
     "metadata": {},
     "output_type": "execute_result"
    }
   ],
   "source": [
    "ColandIden_Acc"
   ]
  },
  {
   "cell_type": "code",
   "execution_count": 18,
   "metadata": {
    "collapsed": false
   },
   "outputs": [
    {
     "data": {
      "text/plain": [
       "WilcoxonResult(statistic=45.0, pvalue=0.025068176000876803)"
      ]
     },
     "execution_count": 18,
     "metadata": {},
     "output_type": "execute_result"
    }
   ],
   "source": [
    "scipy.stats.wilcoxon(np.arcsin(np.sqrt(ColandIden_Acc[1])), y=np.arcsin(np.sqrt(ColandIden_Acc[2])))"
   ]
  },
  {
   "cell_type": "code",
   "execution_count": null,
   "metadata": {
    "collapsed": true
   },
   "outputs": [],
   "source": []
  }
 ],
 "metadata": {
  "kernelspec": {
   "display_name": "Python 2",
   "language": "python",
   "name": "python2"
  },
  "language_info": {
   "codemirror_mode": {
    "name": "ipython",
    "version": 2
   },
   "file_extension": ".py",
   "mimetype": "text/x-python",
   "name": "python",
   "nbconvert_exporter": "python",
   "pygments_lexer": "ipython2",
   "version": "2.7.11"
  }
 },
 "nbformat": 4,
 "nbformat_minor": 0
}
