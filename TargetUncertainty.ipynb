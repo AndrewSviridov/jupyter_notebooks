{
 "cells": [
  {
   "cell_type": "markdown",
   "metadata": {},
   "source": [
    "#Data analyses"
   ]
  },
  {
   "cell_type": "markdown",
   "metadata": {},
   "source": [
    "## Load in the data"
   ]
  },
  {
   "cell_type": "code",
   "execution_count": 1,
   "metadata": {
    "collapsed": false
   },
   "outputs": [
    {
     "name": "stderr",
     "output_type": "stream",
     "text": [
      "/home/dan-laptop/anaconda2/lib/python2.7/site-packages/IPython/core/interactiveshell.py:2885: FutureWarning: \n",
      "mpl_style had been deprecated and will be removed in a future version.\n",
      "Use `matplotlib.pyplot.style.use` instead.\n",
      "\n",
      "  exec(code_obj, self.user_global_ns, self.user_ns)\n"
     ]
    }
   ],
   "source": [
    "import numpy as np, sys, scipy.stats, pandas as pd, os, os.path, csv, PythonAnalyses\n",
    "\n",
    "import matplotlib\n",
    "import matplotlib.pyplot as plt\n",
    "import pylab as pl\n",
    "%matplotlib inline\n",
    "pd.options.display.mpl_style = 'default'\n",
    "\n",
    "Start = 0 #if I want to reload data from csvs = 1. If i want to load python pickle == 0\n",
    "\n",
    "filename = 'AdditionalSingleton_TargetUncertain.csv'\n",
    "csvName = 'AdditionalSingleton_TargetUncertain'\n",
    "\n",
    "if sys.platform == 'linux2': #is this my linux laptop\n",
    "    path = '/home/dan-laptop/Dropbox/TargetUncertainty/'\n",
    "elif sys.platform == 'darwin': #is this my mac work comp    \n",
    "    path = '/Users/danvatterott/Dropbox Encore/Dropbox/TargetUncertainty/'\n",
    "\n",
    "os.chdir(path)\n",
    "\n",
    "if Start == 1: #load in data from csv\n",
    "    numfiles = len([name for name in os.listdir('.') if os.path.isfile(name) and name.endswith(\".csv\") and name[0].isdigit()])\n",
    "    for partnum in xrange(1,numfiles+1): #this is a loop that goes through all participants\n",
    "        filename = '%s_' % str(partnum) + csvName + '.csv'\n",
    "        if partnum == 1: \n",
    "            df = pd.read_csv(filename)\n",
    "        if partnum > 1: \n",
    "            df = df.append(pd.read_csv(filename))\n",
    "    df.columns = map(str.lstrip, df.columns)\n",
    "    df.to_pickle(csvName+'.pkl') #save this data frame all together\n",
    "elif Start == 0: #load the data from a previously saved python file. should save time if not adding csv data. \n",
    "    df = pd.read_pickle(csvName+'.pkl')"
   ]
  },
  {
   "cell_type": "code",
   "execution_count": 2,
   "metadata": {
    "collapsed": false
   },
   "outputs": [
    {
     "data": {
      "text/html": [
       "<div>\n",
       "<table border=\"1\" class=\"dataframe\">\n",
       "  <thead>\n",
       "    <tr style=\"text-align: right;\">\n",
       "      <th></th>\n",
       "      <th>TarType</th>\n",
       "      <th>TarLoc</th>\n",
       "      <th>TarColorCode</th>\n",
       "      <th>DistCond</th>\n",
       "      <th>TarDistDist</th>\n",
       "      <th>DistLoc</th>\n",
       "      <th>DistLine</th>\n",
       "      <th>Resp</th>\n",
       "      <th>Block</th>\n",
       "      <th>ConstantTar</th>\n",
       "      <th>Acc</th>\n",
       "      <th>RT</th>\n",
       "      <th>Sub#</th>\n",
       "    </tr>\n",
       "  </thead>\n",
       "  <tbody>\n",
       "    <tr>\n",
       "      <th>0</th>\n",
       "      <td>1</td>\n",
       "      <td>4</td>\n",
       "      <td>3</td>\n",
       "      <td>1</td>\n",
       "      <td>0</td>\n",
       "      <td>0</td>\n",
       "      <td>0</td>\n",
       "      <td>1</td>\n",
       "      <td>0</td>\n",
       "      <td>0</td>\n",
       "      <td>1</td>\n",
       "      <td>1544.0347</td>\n",
       "      <td>1</td>\n",
       "    </tr>\n",
       "    <tr>\n",
       "      <th>1</th>\n",
       "      <td>2</td>\n",
       "      <td>4</td>\n",
       "      <td>3</td>\n",
       "      <td>1</td>\n",
       "      <td>0</td>\n",
       "      <td>0</td>\n",
       "      <td>0</td>\n",
       "      <td>2</td>\n",
       "      <td>0</td>\n",
       "      <td>0</td>\n",
       "      <td>1</td>\n",
       "      <td>1136.9638</td>\n",
       "      <td>1</td>\n",
       "    </tr>\n",
       "    <tr>\n",
       "      <th>2</th>\n",
       "      <td>2</td>\n",
       "      <td>1</td>\n",
       "      <td>4</td>\n",
       "      <td>2</td>\n",
       "      <td>1</td>\n",
       "      <td>2</td>\n",
       "      <td>2</td>\n",
       "      <td>2</td>\n",
       "      <td>0</td>\n",
       "      <td>0</td>\n",
       "      <td>1</td>\n",
       "      <td>658.4343</td>\n",
       "      <td>1</td>\n",
       "    </tr>\n",
       "  </tbody>\n",
       "</table>\n",
       "</div>"
      ],
      "text/plain": [
       "   TarType  TarLoc  TarColorCode  DistCond  TarDistDist  DistLoc  DistLine  \\\n",
       "0        1       4             3         1            0        0         0   \n",
       "1        2       4             3         1            0        0         0   \n",
       "2        2       1             4         2            1        2         2   \n",
       "\n",
       "   Resp  Block  ConstantTar  Acc         RT  Sub#  \n",
       "0     1      0            0    1  1544.0347     1  \n",
       "1     2      0            0    1  1136.9638     1  \n",
       "2     2      0            0    1   658.4343     1  "
      ]
     },
     "execution_count": 2,
     "metadata": {},
     "output_type": "execute_result"
    }
   ],
   "source": [
    "df[0:3] #take a quick look at the dataframe. "
   ]
  },
  {
   "cell_type": "markdown",
   "metadata": {},
   "source": [
    "SingletonCueMatch = 1 = color singleton at cued location/object\n",
    "SingletonCueMatch = 2 = color singleton at uncued location/object\n",
    "SingletonCueMatch = 0 = color singleton absent\n",
    "BlockType = 1 = cross\n",
    "BlockType = 2 = circle\n",
    "BlockType = 3 = cardinal\n",
    "BlockType = 4 = diagonal"
   ]
  },
  {
   "cell_type": "markdown",
   "metadata": {},
   "source": [
    "## Data Trimming"
   ]
  },
  {
   "cell_type": "markdown",
   "metadata": {},
   "source": [
    "data trimming. correct, slower than 300 ms and faster than 1500. "
   ]
  },
  {
   "cell_type": "code",
   "execution_count": null,
   "metadata": {
    "collapsed": false
   },
   "outputs": [],
   "source": [
    "Trimmer = df['Block'] > 0 #not the practice block\n",
    "Trimmer2 = df['Acc'] == 1 #not an error trial\n",
    "Trimmer3 = df['RT'] > 300 #not a super fast response\n",
    "PartTrim = (df['Sub#'] != 8)\n",
    "\n",
    "DistCond = df[Trimmer & Trimmer2 & Trimmer3].groupby(['DistCond','Sub#']) \n",
    "RTTrim = DistCond['RT'].mean() + 2.5*DistCond['RT'].std(ddof=0)\n",
    "subList = df.drop_duplicates(subset='Sub#')\n",
    "TrimmerOld = [False]*len(df)\n",
    "for sub in subList['Sub#']: #loop through every subject. \n",
    "    TrimmerA = (df.DistCond == 1) & (df['RT'] < RTTrim[1][sub]) & (df['Sub#'] == sub)\n",
    "    TrimmerB = (df.DistCond == 2) & (df['RT'] < RTTrim[2][sub]) & (df['Sub#'] == sub)\n",
    "    Trimmer4 = [any(tup) for tup in zip(TrimmerA, TrimmerB, TrimmerOld)] #combine those 2 RT trimmers. \n",
    "    TrimmerOld = Trimmer4"
   ]
  },
  {
   "cell_type": "code",
   "execution_count": null,
   "metadata": {
    "collapsed": false
   },
   "outputs": [],
   "source": [
    "totalTrialNum = np.size(df[PartTrim & Trimmer],0)\n",
    "ex_counter = 0\n",
    "Total=0\n",
    "for sub in df['Sub#'].unique(): #loop through every subject. \n",
    "    TrimmerA = (df[Trimmer].DistCond == 1) & (df[Trimmer]['RT'] > RTTrim[1][sub]) & (df[Trimmer]['Sub#'] == sub) & (df[Trimmer].Acc==1)\n",
    "    TrimmerB = (df[Trimmer].DistCond == 2) & (df[Trimmer]['RT'] > RTTrim[2][sub]) & (df[Trimmer]['Sub#'] == sub) & (df[Trimmer].Acc==1)\n",
    "    TrimmerC = df[Trimmer]['RT'] < 300 & (df[Trimmer].Acc==1)\n",
    "    Total+= (sum(TrimmerA)+sum(TrimmerB)+sum(TrimmerC))\n",
    "Total = sum(TrimmerA) + sum(TrimmerB) + sum(TrimmerC) \n",
    "print Total\n",
    "print totalTrialNum\n",
    "Rt_ex = float(Total)/float(totalTrialNum)\n",
    "print '%.9f' % Rt_ex\n",
    "#measuring how many trials are excluded."
   ]
  },
  {
   "cell_type": "markdown",
   "metadata": {},
   "source": [
    "checking acc. looks good. everyone above 90%"
   ]
  },
  {
   "cell_type": "code",
   "execution_count": null,
   "metadata": {
    "collapsed": false
   },
   "outputs": [],
   "source": [
    "tableAcc = df[Trimmer].pivot_table(values='Acc', index='Sub#', aggfunc=np.mean)\n",
    "tableAcc"
   ]
  },
  {
   "cell_type": "markdown",
   "metadata": {},
   "source": [
    "## RT Data"
   ]
  },
  {
   "cell_type": "code",
   "execution_count": null,
   "metadata": {
    "collapsed": false
   },
   "outputs": [],
   "source": [
    "ConType = df['ConstantTar'] == 1\n",
    "tableRT = df[PartTrim & Trimmer & Trimmer2 & Trimmer3 & Trimmer4 & ConType].pivot_table(values='RT', index='Sub#', columns=['DistCond'], aggfunc=np.mean)\n",
    "PythonAnalyses.dataTableRT(tableRT)\n",
    "\n",
    "PythonAnalyses.Test_and_Plot_PairwiseComparison(tableRT, 600, 1000, 'Singleton Condition','ConstantTarget')"
   ]
  },
  {
   "cell_type": "code",
   "execution_count": null,
   "metadata": {
    "collapsed": false
   },
   "outputs": [],
   "source": [
    "ConType = df['ConstantTar'] == 0\n",
    "tableRT = df[PartTrim & Trimmer & Trimmer2 & Trimmer3 & Trimmer4 & ConType].pivot_table(values='RT', index='Sub#', columns=['DistCond'], aggfunc=np.mean)\n",
    "PythonAnalyses.dataTableRT(tableRT)\n",
    "\n",
    "PythonAnalyses.Test_and_Plot_PairwiseComparison(tableRT, 600, 1000, 'Singleton Condition','Changing Target')"
   ]
  },
  {
   "cell_type": "code",
   "execution_count": null,
   "metadata": {
    "collapsed": false
   },
   "outputs": [],
   "source": [
    "ConType = df['ConstantTar'] == 1\n",
    "tableRT = df[PartTrim & Trimmer & Trimmer2 & Trimmer3 & Trimmer4 & ConType].pivot_table(values='RT', index='Sub#', columns=['DistCond'], aggfunc=np.mean)\n",
    "Diff_Constant = tableRT[2]-tableRT[1]\n",
    "Absent1 = tableRT[1]\n",
    "ConType = df['ConstantTar'] == 0\n",
    "tableRT = df[PartTrim & Trimmer & Trimmer2 & Trimmer3 & Trimmer4 & ConType].pivot_table(values='RT', index='Sub#', columns=['DistCond'], aggfunc=np.mean)\n",
    "Diff_Change = tableRT[2]-tableRT[1]\n",
    "Absent2 = tableRT[1]\n",
    "\n",
    "print scipy.stats.ttest_ind(Diff_Constant, Diff_Change)\n",
    "print scipy.stats.ttest_ind(Absent1, Absent2)"
   ]
  },
  {
   "cell_type": "code",
   "execution_count": null,
   "metadata": {
    "collapsed": false
   },
   "outputs": [],
   "source": [
    "plt.hist(Diff_Constant,histtype='step',linewidth=2);\n",
    "plt.hist(Diff_Change,histtype='step',linewidth=2);"
   ]
  },
  {
   "cell_type": "code",
   "execution_count": null,
   "metadata": {
    "collapsed": false
   },
   "outputs": [],
   "source": [
    "ConType = df['ConstantTar'] == 1\n",
    "tableRT3 = df[PartTrim & Trimmer & Trimmer2 & Trimmer3 & Trimmer4 & ConType].pivot_table(values='RT', index='Sub#', columns=[], aggfunc=np.mean)\n",
    "ConType = df['ConstantTar'] == 0\n",
    "tableRT4 = df[PartTrim & Trimmer & Trimmer2 & Trimmer3 & Trimmer4 & ConType].pivot_table(values='RT', index='Sub#', columns=[], aggfunc=np.mean)\n",
    "\n",
    "scipy.stats.ttest_ind(tableRT3, tableRT4)"
   ]
  },
  {
   "cell_type": "code",
   "execution_count": null,
   "metadata": {
    "collapsed": false
   },
   "outputs": [],
   "source": [
    "df['Col_prevTrial'] = df['TarColorCode'].shift(periods=1)\n",
    "df['Col_prevTrial2'] = df['TarColorCode'].shift(periods=2)"
   ]
  },
  {
   "cell_type": "code",
   "execution_count": null,
   "metadata": {
    "collapsed": false
   },
   "outputs": [],
   "source": [
    "df['Col_Rep'] = 0\n",
    "df.loc[(df['Col_prevTrial'] == df['TarColorCode']), 'Col_Rep'] = 1\n",
    "df.loc[(df['Col_prevTrial'] == df['TarColorCode']) & (df['Col_prevTrial2'] == df['TarColorCode']), 'Col_Rep1'] = 1"
   ]
  },
  {
   "cell_type": "code",
   "execution_count": null,
   "metadata": {
    "collapsed": false
   },
   "outputs": [],
   "source": [
    "ConType = df['ConstantTar'] == 0\n",
    "TarRep = df['Col_Rep'] == 1\n",
    "tableRT = df[PartTrim & Trimmer & Trimmer2 & Trimmer3 & Trimmer4 & ConType & TarRep].pivot_table(values='RT', index='Sub#', columns=['DistCond'], aggfunc=np.mean)\n",
    "PythonAnalyses.dataTableRT(tableRT)\n",
    "\n",
    "PythonAnalyses.Test_and_Plot_PairwiseComparison(tableRT, 600, 1000, 'Singleton Condition','Changing Target; Repeated TargetColor')"
   ]
  },
  {
   "cell_type": "code",
   "execution_count": null,
   "metadata": {
    "collapsed": false
   },
   "outputs": [],
   "source": [
    "ConType = df['ConstantTar'] == 0\n",
    "TarRep = df['Col_Rep'] == 0\n",
    "tableRT = df[PartTrim & Trimmer & Trimmer2 & Trimmer3 & Trimmer4 & ConType & TarRep].pivot_table(values='RT', index='Sub#', columns=['DistCond'], aggfunc=np.mean)\n",
    "PythonAnalyses.dataTableRT(tableRT)\n",
    "\n",
    "PythonAnalyses.Test_and_Plot_PairwiseComparison(tableRT, 600, 1000, 'Singleton Condition','Changing Target; Changed TargetColor')"
   ]
  },
  {
   "cell_type": "code",
   "execution_count": null,
   "metadata": {
    "collapsed": false
   },
   "outputs": [],
   "source": [
    "ConType = df['ConstantTar'] == 1\n",
    "DTRIM = df['DistCond'] == 1\n",
    "tableRT2A = df[PartTrim & Trimmer & Trimmer2 & Trimmer3 & Trimmer4 & DTRIM & ConType].pivot_table(values='RT', index='Sub#', columns=['Block'], aggfunc=np.mean)\n",
    "DTRIM = df['DistCond'] == 2\n",
    "tableRT2B = df[PartTrim & Trimmer & Trimmer2 & Trimmer3 & Trimmer4 & DTRIM & ConType].pivot_table(values='RT', index='Sub#', columns=['Block'], aggfunc=np.mean)\n",
    "ConType = df['ConstantTar'] == 0\n",
    "DTRIM = df['DistCond'] == 1\n",
    "tableRT2C = df[PartTrim & Trimmer & Trimmer2 & Trimmer3 & Trimmer4 & DTRIM & ConType].pivot_table(values='RT', index='Sub#', columns=['Block'], aggfunc=np.mean)\n",
    "DTRIM = df['DistCond'] == 2\n",
    "tableRT2D = df[PartTrim & Trimmer & Trimmer2 & Trimmer3 & Trimmer4 & DTRIM & ConType].pivot_table(values='RT', index='Sub#', columns=['Block'], aggfunc=np.mean)"
   ]
  },
  {
   "cell_type": "code",
   "execution_count": null,
   "metadata": {
    "collapsed": false
   },
   "outputs": [],
   "source": [
    "xdata = df['Block'][PartTrim & Trimmer & Trimmer2 & Trimmer3 & Trimmer4].unique()\n",
    "\n",
    "Absent1  = np.mean(tableRT2A)\n",
    "Present1 = np.mean(tableRT2B)\n",
    "Absent2  = np.mean(tableRT2C)\n",
    "Present2 = np.mean(tableRT2D)\n",
    "\n",
    "fig = plt.figure(figsize=(15,8))\n",
    "axes = fig.add_subplot(111)\n",
    "\n",
    "axes.plot(xdata, Absent1, label='Singleton Absent:Constant Target'); \n",
    "axes.plot(xdata, Present1, label='Singleton Present:Constant Target')\n",
    "axes.plot(xdata, Absent2,'--', label='Singleton Absent:Changing Target'); \n",
    "axes.plot(xdata, Present2,'--', label='Singleton Present:Changing Target')\n",
    "axes.legend()\n",
    "axes.set_ylim(600,900)\n",
    "axes.set_xlim(0,np.max(xdata)+1);"
   ]
  },
  {
   "cell_type": "code",
   "execution_count": null,
   "metadata": {
    "collapsed": false
   },
   "outputs": [],
   "source": [
    "ConType = df['ConstantTar'] == 1\n",
    "GreenShade = df['TarColorCode'] == 1 #this is the darkest green\n",
    "tableRT = df[PartTrim & Trimmer & Trimmer2 & Trimmer3 & Trimmer4 & ConType & GreenShade].pivot_table(values='RT', index='Sub#', columns=['DistCond'], aggfunc=np.mean)\n",
    "PythonAnalyses.dataTableRT(tableRT)\n",
    "\n",
    "PythonAnalyses.Test_and_Plot_PairwiseComparison(tableRT, 600, 1000, 'Singleton Condition','ConstantTarget; Shade 1')"
   ]
  },
  {
   "cell_type": "code",
   "execution_count": null,
   "metadata": {
    "collapsed": false
   },
   "outputs": [],
   "source": [
    "ConType = df['ConstantTar'] == 1\n",
    "GreenShade = df['TarColorCode'] == 2 #this is the 2nd darkest green\n",
    "tableRT = df[PartTrim & Trimmer & Trimmer2 & Trimmer3 & Trimmer4 & ConType & GreenShade].pivot_table(values='RT', index='Sub#', columns=['DistCond'], aggfunc=np.mean)\n",
    "PythonAnalyses.dataTableRT(tableRT)\n",
    "\n",
    "PythonAnalyses.Test_and_Plot_PairwiseComparison(tableRT, 600, 1000, 'Singleton Condition','ConstantTarget; Shade 1')"
   ]
  },
  {
   "cell_type": "code",
   "execution_count": null,
   "metadata": {
    "collapsed": false
   },
   "outputs": [],
   "source": [
    "ConType = df['ConstantTar'] == 1\n",
    "GreenShade = df['TarColorCode'] == 3 #this is the 2nd brightest green\n",
    "tableRT = df[PartTrim & Trimmer & Trimmer2 & Trimmer3 & Trimmer4 & ConType & GreenShade].pivot_table(values='RT', index='Sub#', columns=['DistCond'], aggfunc=np.mean)\n",
    "PythonAnalyses.dataTableRT(tableRT)\n",
    "\n",
    "PythonAnalyses.Test_and_Plot_PairwiseComparison(tableRT, 600, 1000, 'Singleton Condition','ConstantTarget; Shade 1')"
   ]
  },
  {
   "cell_type": "code",
   "execution_count": null,
   "metadata": {
    "collapsed": false
   },
   "outputs": [],
   "source": [
    "ConType = df['ConstantTar'] == 1\n",
    "GreenShade = df['TarColorCode'] == 4 #this is the brightest green\n",
    "tableRT = df[PartTrim & Trimmer & Trimmer2 & Trimmer3 & Trimmer4 & ConType & GreenShade].pivot_table(values='RT', index='Sub#', columns=['DistCond'], aggfunc=np.mean)\n",
    "PythonAnalyses.dataTableRT(tableRT)\n",
    "\n",
    "PythonAnalyses.Test_and_Plot_PairwiseComparison(tableRT, 600, 1000, 'Singleton Condition','ConstantTarget; Shade 1')"
   ]
  },
  {
   "cell_type": "code",
   "execution_count": null,
   "metadata": {
    "collapsed": false
   },
   "outputs": [],
   "source": [
    "ConType = df['ConstantTar'] == 1\n",
    "TrialT = df['DistCond'] == 1\n",
    "RTs1 = df[Trimmer & Trimmer2 & Trimmer3 & Trimmer4 & TrialT & ConType]['RT'].quantile(np.arange(0.1,1.1,0.1))\n",
    "TrialT = df['DistCond'] == 2\n",
    "RTs2 = df[Trimmer & Trimmer2 & Trimmer3 & Trimmer4 & TrialT & ConType]['RT'].quantile(np.arange(0.1,1.1,0.1))\n",
    "ConType = df['ConstantTar'] == 0\n",
    "TrialT = df['DistCond'] == 1\n",
    "RTs3 = df[Trimmer & Trimmer2 & Trimmer3 & Trimmer4 & TrialT & ConType]['RT'].quantile(np.arange(0.1,1.1,0.1))\n",
    "TrialT = df['DistCond'] == 2\n",
    "RTs4 = df[Trimmer & Trimmer2 & Trimmer3 & Trimmer4 & TrialT & ConType]['RT'].quantile(np.arange(0.1,1.1,0.1))\n",
    "xdata = np.arange(1,11,1)\n",
    "\n",
    "Singleton_Absent1  = RTs1\n",
    "Singleton_Present1 = RTs2\n",
    "Singleton_Absent0  = RTs3\n",
    "Singleton_Present0 = RTs4\n",
    "\n",
    "fig = plt.figure(figsize=(15,8))\n",
    "axes = fig.add_subplot(111)\n",
    "\n",
    "axes.plot(xdata, Singleton_Absent1, label='Singleton Absent1'); \n",
    "axes.plot(xdata, Singleton_Present1, label='Singleton Present1')\n",
    "axes.plot(xdata, Singleton_Absent0, label='Singleton Absent0'); \n",
    "axes.plot(xdata, Singleton_Present0, label='Singleton Present0')\n",
    "axes.legend(loc=2)\n",
    "axes.set_ylim(500,2000)\n",
    "axes.set_xlim(0,11);"
   ]
  },
  {
   "cell_type": "code",
   "execution_count": null,
   "metadata": {
    "collapsed": true
   },
   "outputs": [],
   "source": [
    "def print_tests(series1, series2):\n",
    "    normTest = scipy.stats.shapiro(series1-series2)\n",
    "    Test = scipy.stats.ttest_rel(series1,series2)\n",
    "    print '\\t normality test. Test value: %s P-value: %s' % (str(np.round(normTest[0],2)), str(np.round(normTest[1],4)))\n",
    "    print '\\t T-test. Test value: %s P-value: %s' % (str(np.round(Test[0],2)), str(np.round(Test[1],4)))\n",
    "    \n",
    "def GroupCapAnalysis_and_Plot(tableRT2, CIs):\n",
    "    PlotFrame = pd.DataFrame([tableRT2.mean()])\n",
    "    PlotFrame.columns = ['Incongruent', 'Congruent']\n",
    "    PlotFrame2 = pd.DataFrame()\n",
    "    PlotFrame2['Congruent'] = pd.DataFrame([CIs])\n",
    "    PlotFrame2['Incongruent'] = pd.DataFrame([CIs])\n",
    "    PlotFrame.plot(ylim = [500, 900], yerr=PlotFrame2, kind='bar')\n",
    "    plt.xticks(range(1), ['Congruency of Singleton Line'], rotation=0);\n",
    "\n",
    "    disp_tab = np.round(tableRT2,2)\n",
    "    disp_tab['Incong-cong'] = disp_tab[False] - disp_tab[True]\n",
    "    print disp_tab\n",
    "\n",
    "    print '---------------------------------'\n",
    "    print 'Mean Congruent: %s' % (str(round(np.mean(tableRT2[True]),2)))\n",
    "    print 'Mean Incongruent: %s' % (str(round(np.mean(tableRT2[False]),2)))\n",
    "    print 'Incongruent - Congruent: %s' % (str(round(np.mean(tableRT2[False])-np.mean(tableRT2[True]),2)))\n",
    "    print '---------------------------------'\n",
    "    print 'Neutral vs Singleton Distractor'\n",
    "    print_tests(tableRT2[True],tableRT2[False])\n",
    "    \n",
    "def SimpleComparisonCI(table):\n",
    "    import scipy.stats, math\n",
    "    ttest = scipy.stats.ttest_rel(table[True], table[False])\n",
    "    MeanDiff_byT = abs((table[False].mean()-table[True].mean())/ttest[0])\n",
    "    CI = MeanDiff_byT*scipy.stats.t.isf(0.025, len(table)-1)*math.pow(2,0.05)/2\n",
    "    return CI"
   ]
  },
  {
   "cell_type": "code",
   "execution_count": null,
   "metadata": {
    "collapsed": false
   },
   "outputs": [],
   "source": [
    "ConType = df['ConstantTar'] == 1\n",
    "TrialT = df['DistCond'] == 2\n",
    "df['Cong'] = (df['TarType'] == df['DistLine'])\n",
    "\n",
    "tableRT = df[PartTrim & Trimmer & Trimmer2 & Trimmer3 & Trimmer4 & ConType & TrialT].pivot_table(values='RT', index='Sub#', columns=['Cong'], aggfunc=np.mean)\n",
    "CIs = SimpleComparisonCI(tableRT)\n",
    "GroupCapAnalysis_and_Plot(tableRT, CIs)"
   ]
  },
  {
   "cell_type": "code",
   "execution_count": null,
   "metadata": {
    "collapsed": false
   },
   "outputs": [],
   "source": [
    "ConType = df['ConstantTar'] == 0\n",
    "TrialT = df['DistCond'] == 2\n",
    "df['Cong'] = (df['TarType'] == df['DistLine'])\n",
    "\n",
    "tableRT = df[PartTrim & Trimmer & Trimmer2 & Trimmer3 & Trimmer4 & ConType & TrialT].pivot_table(values='RT', index='Sub#', columns=['Cong'], aggfunc=np.mean)\n",
    "CIs = SimpleComparisonCI(tableRT)\n",
    "GroupCapAnalysis_and_Plot(tableRT, CIs)"
   ]
  },
  {
   "cell_type": "code",
   "execution_count": null,
   "metadata": {
    "collapsed": true
   },
   "outputs": [],
   "source": []
  }
 ],
 "metadata": {
  "kernelspec": {
   "display_name": "Python [Root]",
   "language": "python",
   "name": "Python [Root]"
  },
  "language_info": {
   "codemirror_mode": {
    "name": "ipython",
    "version": 2
   },
   "file_extension": ".py",
   "mimetype": "text/x-python",
   "name": "python",
   "nbconvert_exporter": "python",
   "pygments_lexer": "ipython2",
   "version": "2.7.12"
  }
 },
 "nbformat": 4,
 "nbformat_minor": 0
}
