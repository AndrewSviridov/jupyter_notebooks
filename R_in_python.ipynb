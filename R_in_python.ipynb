{
 "cells": [
  {
   "cell_type": "markdown",
   "metadata": {},
   "source": [
    "I love doing data analyses with pandas, numpy, sci-py etc., but I often need to run <a href=\"https://en.wikipedia.org/wiki/Repeated_measures_design\">repeated measures ANOVAs</a>, which are not implemented in any major python libraries. <a href=\"http://pythonpsychologist.tumblr.com/post/139246503057/repeated-measures-anova-using-python\">Python Psychologist</a> shows how to do repeated measures ANOVAs yourself in python, but I find using a widley distributed implementation comforting... \n",
    "\n",
    "In this post I show how to execute a repeated measures ANOVAs using the <a href=\"http://rpy2.bitbucket.org/\">rpy2</a> library, which allows us to move data between python and R, and execute R commands from python. I use rpy2 to load the <a href=\"http://www.inside-r.org/packages/cran/car/docs/Anova\">car</a> library and run the ANOVA. \n",
    "\n",
    "I will show how to run a one-way repeated measures ANOVA and a two-way repeated measures ANOVA. "
   ]
  },
  {
   "cell_type": "code",
   "execution_count": 86,
   "metadata": {
    "collapsed": false
   },
   "outputs": [],
   "source": [
    "#first import the libraries I always use. \n",
    "import numpy as np, scipy.stats, pandas as pd\n",
    "\n",
    "import matplotlib as mpl\n",
    "import matplotlib.pyplot as plt\n",
    "import pylab as pl\n",
    "%matplotlib inline\n",
    "pd.options.display.mpl_style = 'default'\n",
    "plt.style.use('ggplot')\n",
    "mpl.rcParams['font.family'] = ['Bitstream Vera Sans']\n"
   ]
  },
  {
   "cell_type": "markdown",
   "metadata": {},
   "source": [
    "Below I use the random library to generate some fake data. I seed the random number generator with a one so that this analysis can be replicated. \n",
    "\n",
    "I will generated 3 conditions which represent 3 levels of a single variable.\n",
    "\n",
    "The data are generated from a gaussian distribution. The second condition has a higher mean than the other two conditions."
   ]
  },
  {
   "cell_type": "code",
   "execution_count": 92,
   "metadata": {
    "collapsed": false
   },
   "outputs": [
    {
     "data": {
      "image/png": "[encoded data removed]",
      "text/plain": [
       "<matplotlib.figure.Figure at 0x7f3c833a0250>"
      ]
     },
     "metadata": {},
     "output_type": "display_data"
    }
   ],
   "source": [
    "import random\n",
    "\n",
    "random.seed(1) #seed random number generator\n",
    "cond_1 = [random.gauss(600,30) for x in range(30)] #condition 1 has a mean of 600 and standard deviation of 30\n",
    "cond_2 = [random.gauss(650,30) for x in range(30)] #u=650 and sd=30\n",
    "cond_3 = [random.gauss(600,30) for x in range(30)] #u=600 and sd=30\n",
    "\n",
    "plt.bar(np.arange(1,4),[np.mean(cond_1),np.mean(cond_2),np.mean(cond_3)],align='center') #plot data\n",
    "plt.xticks([1,2,3]);"
   ]
  },
  {
   "cell_type": "markdown",
   "metadata": {},
   "source": [
    "Next, I load rpy2 for ipython. I am doing these analyses with ipython in a <a href=\"http://jupyter.org/\">jupyter notebook</a> (highly recommended). \n"
   ]
  },
  {
   "cell_type": "code",
   "execution_count": null,
   "metadata": {
    "collapsed": true
   },
   "outputs": [],
   "source": [
    "%load_ext rpy2.ipython"
   ]
  },
  {
   "cell_type": "markdown",
   "metadata": {},
   "source": [
    "Here's how to run the ANOVA. Note that this is a one-way anova with 3 levels of the factor. "
   ]
  },
  {
   "cell_type": "code",
   "execution_count": 97,
   "metadata": {
    "collapsed": false
   },
   "outputs": [
    {
     "name": "stdout",
     "output_type": "stream",
     "text": [
      "\n",
      "Type III Repeated Measures MANOVA Tests:\n",
      "\n",
      "------------------------------------------\n",
      " \n",
      "Term: (Intercept) \n",
      "\n",
      " Response transformation matrix:\n",
      "       (Intercept)\n",
      "cond_1           1\n",
      "cond_2           1\n",
      "cond_3           1\n",
      "\n",
      "Sum of squares and products for the hypothesis:\n",
      "            (Intercept)\n",
      "(Intercept)   102473990\n",
      "\n",
      "Sum of squares and products for error:\n",
      "            (Intercept)\n",
      "(Intercept)     78712.7\n",
      "\n",
      "Multivariate Tests: (Intercept)\n",
      "                 Df test stat approx F num Df den Df     Pr(>F)    \n",
      "Pillai            1    0.9992 37754.33      1     29 < 2.22e-16 ***\n",
      "Wilks             1    0.0008 37754.33      1     29 < 2.22e-16 ***\n",
      "Hotelling-Lawley  1 1301.8736 37754.33      1     29 < 2.22e-16 ***\n",
      "Roy               1 1301.8736 37754.33      1     29 < 2.22e-16 ***\n",
      "---\n",
      "Signif. codes:  0 ‘***’ 0.001 ‘**’ 0.01 ‘*’ 0.05 ‘.’ 0.1 ‘ ’ 1\n",
      "\n",
      "------------------------------------------\n",
      " \n",
      "Term: Factor \n",
      "\n",
      " Response transformation matrix:\n",
      "       Factor1 Factor2\n",
      "cond_1       1       0\n",
      "cond_2       0       1\n",
      "cond_3      -1      -1\n",
      "\n",
      "Sum of squares and products for the hypothesis:\n",
      "          Factor1   Factor2\n",
      "Factor1  3679.584  19750.87\n",
      "Factor2 19750.870 106016.58\n",
      "\n",
      "Sum of squares and products for error:\n",
      "         Factor1  Factor2\n",
      "Factor1 40463.19 27139.59\n",
      "Factor2 27139.59 51733.12\n",
      "\n",
      "Multivariate Tests: Factor\n",
      "                 Df test stat approx F num Df den Df    Pr(>F)    \n",
      "Pillai            1 0.7152596 35.16759      2     28 2.303e-08 ***\n",
      "Wilks             1 0.2847404 35.16759      2     28 2.303e-08 ***\n",
      "Hotelling-Lawley  1 2.5119704 35.16759      2     28 2.303e-08 ***\n",
      "Roy               1 2.5119704 35.16759      2     28 2.303e-08 ***\n",
      "---\n",
      "Signif. codes:  0 ‘***’ 0.001 ‘**’ 0.01 ‘*’ 0.05 ‘.’ 0.1 ‘ ’ 1\n",
      "\n",
      "Univariate Type III Repeated-Measures ANOVA Assuming Sphericity\n",
      "\n",
      "                  SS num Df Error SS den Df         F    Pr(>F)    \n",
      "(Intercept) 34157997      1    26238     29 37754.334 < 2.2e-16 ***\n",
      "Factor         59964      2    43371     58    40.094 1.163e-11 ***\n",
      "---\n",
      "Signif. codes:  0 ‘***’ 0.001 ‘**’ 0.01 ‘*’ 0.05 ‘.’ 0.1 ‘ ’ 1\n",
      "\n",
      "\n",
      "Mauchly Tests for Sphericity\n",
      "\n",
      "       Test statistic p-value\n",
      "Factor        0.96168 0.57866\n",
      "\n",
      "\n",
      "Greenhouse-Geisser and Huynh-Feldt Corrections\n",
      " for Departure from Sphericity\n",
      "\n",
      "        GG eps Pr(>F[GG])    \n",
      "Factor 0.96309  2.595e-11 ***\n",
      "---\n",
      "Signif. codes:  0 ‘***’ 0.001 ‘**’ 0.01 ‘*’ 0.05 ‘.’ 0.1 ‘ ’ 1\n",
      "\n",
      "        HF eps   Pr(>F[HF])\n",
      "Factor 1.03025 1.163294e-11\n",
      "\n"
     ]
    }
   ],
   "source": [
    "#pop the data into R\n",
    "%Rpush cond_1 cond_2 cond_3 \n",
    "\n",
    "#label the conditions\n",
    "%R Factor <- c('Cond1','Cond2','Cond3')\n",
    "#create a vector of conditions\n",
    "%R idata <- data.frame(Factor) \n",
    "\n",
    "#combine data into single matrix\n",
    "%R Bind <- cbind(cond_1,cond_2,cond_3) \n",
    "#generate linear model\n",
    "%R model <- lm(Bind~1)\n",
    "\n",
    "#load the car library. note this library must be installed.\n",
    "%R library(car) \n",
    "#run anova\n",
    "%R analysis <- Anova(model,idata=idata,idesign=~Factor,type=\"III\") \n",
    "#create anova summary table\n",
    "%R anova_sum = summary(analysis) \n",
    "\n",
    "#move the data from R to python\n",
    "%Rpull anova_sum \n",
    "print anova_sum"
   ]
  },
  {
   "cell_type": "markdown",
   "metadata": {},
   "source": [
    "The ANOVA table isn't pretty, but it works. As you can see, the ANOVA was wildly significant. \n",
    "\n",
    "Next, I generate data for a two-way (2x3) repeated measures ANOVA. Condition A is the same data as above. Condition B has a different pattern (2 is lower than 1 and 3), which should produce an interaction. "
   ]
  },
  {
   "cell_type": "code",
   "execution_count": 98,
   "metadata": {
    "collapsed": false
   },
   "outputs": [
    {
     "data": {
      "image/png": "[encoded data removed]",
      "text/plain": [
       "<matplotlib.figure.Figure at 0x7f3c837b41d0>"
      ]
     },
     "metadata": {},
     "output_type": "display_data"
    }
   ],
   "source": [
    "random.seed(1)\n",
    "\n",
    "cond_1a = [random.gauss(600,30) for x in range(30)] #u=600,sd=30\n",
    "cond_2a = [random.gauss(650,30) for x in range(30)] #u=650,sd=30\n",
    "cond_3a = [random.gauss(600,30) for x in range(30)] #u=600,sd=30\n",
    "\n",
    "cond_1b = [random.gauss(600,30) for x in range(30)] #u=600,sd=30\n",
    "cond_2b = [random.gauss(550,30) for x in range(30)] #u=550,sd=30\n",
    "cond_3b = [random.gauss(650,30) for x in range(30)] #u=650,sd=30\n",
    "\n",
    "width = 0.25\n",
    "plt.bar(np.arange(1,4)-width,[np.mean(cond_1a),np.mean(cond_2a),np.mean(cond_3a)],width)\n",
    "plt.bar(np.arange(1,4),[np.mean(cond_1b),np.mean(cond_2b),np.mean(cond_3b)],width,color=plt.rcParams['axes.color_cycle'][0])\n",
    "plt.legend(['A','B'],loc=4)\n",
    "plt.xticks([1,2,3]);"
   ]
  },
  {
   "cell_type": "code",
   "execution_count": 84,
   "metadata": {
    "collapsed": false
   },
   "outputs": [
    {
     "name": "stdout",
     "output_type": "stream",
     "text": [
      "\n",
      "Type III Repeated Measures MANOVA Tests:\n",
      "\n",
      "------------------------------------------\n",
      " \n",
      "Term: (Intercept) \n",
      "\n",
      " Response transformation matrix:\n",
      "        (Intercept)\n",
      "cond_1a           1\n",
      "cond_2a           1\n",
      "cond_3a           1\n",
      "cond_1b           1\n",
      "cond_2b           1\n",
      "cond_3b           1\n",
      "\n",
      "Sum of squares and products for the hypothesis:\n",
      "            (Intercept)\n",
      "(Intercept)   401981075\n",
      "\n",
      "Sum of squares and products for error:\n",
      "            (Intercept)\n",
      "(Intercept)    185650.5\n",
      "\n",
      "Multivariate Tests: (Intercept)\n",
      "                 Df test stat approx F num Df den Df     Pr(>F)    \n",
      "Pillai            1    0.9995 62792.47      1     29 < 2.22e-16 ***\n",
      "Wilks             1    0.0005 62792.47      1     29 < 2.22e-16 ***\n",
      "Hotelling-Lawley  1 2165.2575 62792.47      1     29 < 2.22e-16 ***\n",
      "Roy               1 2165.2575 62792.47      1     29 < 2.22e-16 ***\n",
      "---\n",
      "Signif. codes:  0 ‘***’ 0.001 ‘**’ 0.01 ‘*’ 0.05 ‘.’ 0.1 ‘ ’ 1\n",
      "\n",
      "------------------------------------------\n",
      " \n",
      "Term: Factor1 \n",
      "\n",
      " Response transformation matrix:\n",
      "        Factor11\n",
      "cond_1a        1\n",
      "cond_2a        1\n",
      "cond_3a        1\n",
      "cond_1b       -1\n",
      "cond_2b       -1\n",
      "cond_3b       -1\n",
      "\n",
      "Sum of squares and products for the hypothesis:\n",
      "         Factor11\n",
      "Factor11 38581.51\n",
      "\n",
      "Sum of squares and products for error:\n",
      "         Factor11\n",
      "Factor11 142762.3\n",
      "\n",
      "Multivariate Tests: Factor1\n",
      "                 Df test stat approx F num Df den Df    Pr(>F)   \n",
      "Pillai            1 0.2127533 7.837247      1     29 0.0090091 **\n",
      "Wilks             1 0.7872467 7.837247      1     29 0.0090091 **\n",
      "Hotelling-Lawley  1 0.2702499 7.837247      1     29 0.0090091 **\n",
      "Roy               1 0.2702499 7.837247      1     29 0.0090091 **\n",
      "---\n",
      "Signif. codes:  0 ‘***’ 0.001 ‘**’ 0.01 ‘*’ 0.05 ‘.’ 0.1 ‘ ’ 1\n",
      "\n",
      "------------------------------------------\n",
      " \n",
      "Term: Factor2 \n",
      "\n",
      " Response transformation matrix:\n",
      "        Factor21 Factor22\n",
      "cond_1a        1        0\n",
      "cond_2a        0        1\n",
      "cond_3a       -1       -1\n",
      "cond_1b        1        0\n",
      "cond_2b        0        1\n",
      "cond_3b       -1       -1\n",
      "\n",
      "Sum of squares and products for the hypothesis:\n",
      "         Factor21 Factor22\n",
      "Factor21 91480.01 77568.78\n",
      "Factor22 77568.78 65773.02\n",
      "\n",
      "Sum of squares and products for error:\n",
      "         Factor21 Factor22\n",
      "Factor21 90374.60 56539.06\n",
      "Factor22 56539.06 87589.85\n",
      "\n",
      "Multivariate Tests: Factor2\n",
      "                 Df test stat approx F num Df den Df    Pr(>F)    \n",
      "Pillai            1 0.5235423 15.38351      2     28 3.107e-05 ***\n",
      "Wilks             1 0.4764577 15.38351      2     28 3.107e-05 ***\n",
      "Hotelling-Lawley  1 1.0988223 15.38351      2     28 3.107e-05 ***\n",
      "Roy               1 1.0988223 15.38351      2     28 3.107e-05 ***\n",
      "---\n",
      "Signif. codes:  0 ‘***’ 0.001 ‘**’ 0.01 ‘*’ 0.05 ‘.’ 0.1 ‘ ’ 1\n",
      "\n",
      "------------------------------------------\n",
      " \n",
      "Term: Factor1:Factor2 \n",
      "\n",
      " Response transformation matrix:\n",
      "        Factor11:Factor21 Factor11:Factor22\n",
      "cond_1a                 1                 0\n",
      "cond_2a                 0                 1\n",
      "cond_3a                -1                -1\n",
      "cond_1b                -1                 0\n",
      "cond_2b                 0                -1\n",
      "cond_3b                 1                 1\n",
      "\n",
      "Sum of squares and products for the hypothesis:\n",
      "                  Factor11:Factor21 Factor11:Factor22\n",
      "Factor11:Factor21          179585.9            384647\n",
      "Factor11:Factor22          384647.0            823858\n",
      "\n",
      "Sum of squares and products for error:\n",
      "                  Factor11:Factor21 Factor11:Factor22\n",
      "Factor11:Factor21          92445.33          45639.49\n",
      "Factor11:Factor22          45639.49          89940.37\n",
      "\n",
      "Multivariate Tests: Factor1:Factor2\n",
      "                 Df test stat approx F num Df den Df     Pr(>F)    \n",
      "Pillai            1  0.901764 128.5145      2     28 7.7941e-15 ***\n",
      "Wilks             1  0.098236 128.5145      2     28 7.7941e-15 ***\n",
      "Hotelling-Lawley  1  9.179605 128.5145      2     28 7.7941e-15 ***\n",
      "Roy               1  9.179605 128.5145      2     28 7.7941e-15 ***\n",
      "---\n",
      "Signif. codes:  0 ‘***’ 0.001 ‘**’ 0.01 ‘*’ 0.05 ‘.’ 0.1 ‘ ’ 1\n",
      "\n",
      "Univariate Type III Repeated-Measures ANOVA Assuming Sphericity\n",
      "\n",
      "                      SS num Df Error SS den Df          F    Pr(>F)    \n",
      "(Intercept)     66996846      1    30942     29 62792.4662 < 2.2e-16 ***\n",
      "Factor1             6430      1    23794     29     7.8372  0.009009 ** \n",
      "Factor2            26561      2    40475     58    19.0310  4.42e-07 ***\n",
      "Factor1:Factor2   206266      2    45582     58   131.2293 < 2.2e-16 ***\n",
      "---\n",
      "Signif. codes:  0 ‘***’ 0.001 ‘**’ 0.01 ‘*’ 0.05 ‘.’ 0.1 ‘ ’ 1\n",
      "\n",
      "\n",
      "Mauchly Tests for Sphericity\n",
      "\n",
      "                Test statistic p-value\n",
      "Factor2                0.96023 0.56654\n",
      "Factor1:Factor2        0.99975 0.99648\n",
      "\n",
      "\n",
      "Greenhouse-Geisser and Huynh-Feldt Corrections\n",
      " for Departure from Sphericity\n",
      "\n",
      "                 GG eps Pr(>F[GG])    \n",
      "Factor2         0.96175  6.876e-07 ***\n",
      "Factor1:Factor2 0.99975  < 2.2e-16 ***\n",
      "---\n",
      "Signif. codes:  0 ‘***’ 0.001 ‘**’ 0.01 ‘*’ 0.05 ‘.’ 0.1 ‘ ’ 1\n",
      "\n",
      "                  HF eps   Pr(>F[HF])\n",
      "Factor2         1.028657 4.420005e-07\n",
      "Factor1:Factor2 1.073774 2.965002e-22\n",
      "\n"
     ]
    }
   ],
   "source": [
    "%Rpush cond_1a cond_1b cond_2a cond_2b cond_3a cond_3b\n",
    "\n",
    "%R Factor1 <- c('A','A','A','B','B','B')\n",
    "%R Factor2 <- c('Cond1','Cond2','Cond3','Cond1','Cond2','Cond3')\n",
    "%R idata <- data.frame(Factor1, Factor2)\n",
    "\n",
    "#make sure the vectors appear in the same order as they appear in the dataframe\n",
    "%R Bind <- cbind(cond_1a, cond_2a, cond_3a, cond_1b, cond_2b, cond_3b)\n",
    "%R model <- lm(Bind~1)\n",
    "\n",
    "%R library(car)\n",
    "%R analysis <- Anova(model, idata=idata, idesign=~Factor1*Factor2, type=\"III\")\n",
    "%R anova_sum = summary(analysis)\n",
    "%Rpull anova_sum\n",
    "\n",
    "print anova_sum"
   ]
  },
  {
   "cell_type": "markdown",
   "metadata": {},
   "source": [
    "Again, the anova table isn't too pretty. \n",
    "\n",
    "This obviously isn't the most exciting post in the world, but its a nice bit of code to have in your back pocket if you're doing experimental analyses in python."
   ]
  }
 ],
 "metadata": {
  "kernelspec": {
   "display_name": "Python 2",
   "language": "python",
   "name": "python2"
  },
  "language_info": {
   "codemirror_mode": {
    "name": "ipython",
    "version": 2
   },
   "file_extension": ".py",
   "mimetype": "text/x-python",
   "name": "python",
   "nbconvert_exporter": "python",
   "pygments_lexer": "ipython2",
   "version": "2.7.11"
  }
 },
 "nbformat": 4,
 "nbformat_minor": 0
}
