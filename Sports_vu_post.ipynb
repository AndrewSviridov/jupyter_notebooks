{
 "cells": [
  {
   "cell_type": "markdown",
   "metadata": {},
   "source": [
    "All basketball teams have a camera system called [SportVU](https://en.wikipedia.org/wiki/SportVU) installed in their arenas. These camera systems track players and the ball throughout a basketball game. \n",
    "\n",
    "The data produced by sportsvu camera systems used to be freely available on NBA.com, but was recently removed (I have no idea why). Luckily, the data for about 600 games are available on [neilmj's github](https://github.com/neilmj/BasketballData). In this post, I show how to create a video recreation of a given basketball play using the sportsvu data. \n",
    "\n",
    "This code is also available as a jupyter notebook on my [github](https://github.com/dvatterott/jupyter_notebooks). "
   ]
  },
  {
   "cell_type": "code",
   "execution_count": 1,
   "metadata": {
    "collapsed": false
   },
   "outputs": [],
   "source": [
    "#import some libraries\n",
    "import matplotlib.pyplot as plt, pandas as pd, numpy as np, matplotlib as mpl\n",
    "from __future__ import print_function\n",
    "\n",
    "mpl.rcParams['font.family'] = ['Bitstream Vera Sans']"
   ]
  },
  {
   "cell_type": "markdown",
   "metadata": {},
   "source": [
    "The data is provided as a json. Here's how to import the python json library and load the data. I'm a T-Wolves fan, so the game I chose is a wolves game."
   ]
  },
  {
   "cell_type": "code",
   "execution_count": 2,
   "metadata": {
    "collapsed": false
   },
   "outputs": [],
   "source": [
    "import json #import json library\n",
    "json_data = open('/home/dan-laptop/github/BasketballData/2016.NBA.Raw.SportVU.Game.Logs/0021500594.json') #import the data from wherever you saved it.\n",
    "data = json.load(json_data) #load the data"
   ]
  },
  {
   "cell_type": "markdown",
   "metadata": {},
   "source": [
    "Let's take a quick look at the data. It's a dictionary with three keys: gamedate, gameid, and events. Gamedate and gameid describe the game. Events is the structure with data we're interested in. "
   ]
  },
  {
   "cell_type": "code",
   "execution_count": 3,
   "metadata": {
    "collapsed": false
   },
   "outputs": [
    {
     "data": {
      "text/plain": [
       "[u'gamedate', u'gameid', u'events']"
      ]
     },
     "execution_count": 3,
     "metadata": {},
     "output_type": "execute_result"
    }
   ],
   "source": [
    "data.keys()"
   ]
  },
  {
   "cell_type": "markdown",
   "metadata": {},
   "source": [
    "Lets take a look at the first event. The first event has an associated eventid number. We will use these later. There's also data for each player on the visiting and home team. We will use these later too. Finally, and most importantly, there's the \"moments.\" There are 25 moments for each second of the \"event\" (the data is sampled at 25hz). "
   ]
  },
  {
   "cell_type": "code",
   "execution_count": 4,
   "metadata": {
    "collapsed": false
   },
   "outputs": [
    {
     "data": {
      "text/plain": [
       "[u'eventId', u'visitor', u'moments', u'home']"
      ]
     },
     "execution_count": 4,
     "metadata": {},
     "output_type": "execute_result"
    }
   ],
   "source": [
    "data['events'][0].keys()"
   ]
  },
  {
   "cell_type": "markdown",
   "metadata": {},
   "source": [
    "Here's the first moment of the first event. The first number is the quarter. The second number is the time of the event in milliseconds. The third number is the number of seconds left in the quarter (the 1st quarter hasn't started yet, so 12 * 60 = 720). The fourth number is the number of seconds left on the shot clock. I am not sure what fourth number (None) represents. \n",
    "\n",
    "The final matrix is 11x5 matrix. The first row describes the ball. The first two columns are the teamID and the playerID of the ball (-1 for both because the ball does not belong to a team and is not a player). The 3rd and 4th columns are xy coordinates of the ball. The final column is the height of the ball (z coordinate). \n",
    "\n",
    "The next 10 rows describe the 10 players on the court. The first 5 players belong to the home team and the last 5 players belong to the visiting team. Each player has his teamID, playerID, xy&z coordinates (although I don't think players' z coordinates ever change). "
   ]
  },
  {
   "cell_type": "code",
   "execution_count": 5,
   "metadata": {
    "collapsed": false
   },
   "outputs": [
    {
     "data": {
      "text/plain": [
       "[1,\n",
       " 1452903036782,\n",
       " 720.0,\n",
       " 24.0,\n",
       " None,\n",
       " [[-1, -1, 44.16456, 26.34142, 5.74423],\n",
       "  [1610612760, 201142, 45.46259, 32.01456, 0.0],\n",
       "  [1610612760, 201566, 10.39347, 24.77219, 0.0],\n",
       "  [1610612760, 201586, 25.86087, 25.55881, 0.0],\n",
       "  [1610612760, 203460, 47.28525, 17.76225, 0.0],\n",
       "  [1610612760, 203500, 43.68634, 26.63098, 0.0],\n",
       "  [1610612750, 708, 55.6401, 25.55583, 0.0],\n",
       "  [1610612750, 2419, 47.95942, 31.66328, 0.0],\n",
       "  [1610612750, 201937, 67.28725, 25.10267, 0.0],\n",
       "  [1610612750, 203952, 47.28525, 17.76225, 0.0],\n",
       "  [1610612750, 1626157, 49.46814, 24.24193, 0.0]]]"
      ]
     },
     "execution_count": 5,
     "metadata": {},
     "output_type": "execute_result"
    }
   ],
   "source": [
    "data['events'][0]['moments'][0]"
   ]
  },
  {
   "cell_type": "markdown",
   "metadata": {},
   "source": [
    "Alright, so we have the sportsvu data, but its not clear what each event is. Luckily, the NBA also provides play by play (pbp) data. I write a function for acquiring play by play game data. This function collects (and trims) the play by play data for a given sportsvu data set. "
   ]
  },
  {
   "cell_type": "code",
   "execution_count": 6,
   "metadata": {
    "collapsed": false
   },
   "outputs": [],
   "source": [
    "def acquire_gameData(data):\n",
    "    import requests\n",
    "    header_data = { #I pulled this header from the py goldsberry library\n",
    "        'Accept-Encoding': 'gzip, deflate, sdch',\n",
    "        'Accept-Language': 'en-US,en;q=0.8',\n",
    "        'Upgrade-Insecure-Requests': '1',\n",
    "        'User-Agent': 'Mozilla/5.0 (Windows NT 10.0; WOW64)'\\\n",
    "        ' AppleWebKit/537.36 (KHTML, like Gecko) Chrome/48.0.2564.82 '\\\n",
    "        'Safari/537.36',\n",
    "        'Accept': 'text/html,application/xhtml+xml,application/xml;q=0.9'\\\n",
    "        ',image/webp,*/*;q=0.8',\n",
    "        'Cache-Control': 'max-age=0',\n",
    "        'Connection': 'keep-alive'\n",
    "    }\n",
    "    game_url = 'http://stats.nba.com/stats/playbyplayv2?EndPeriod=0&EndRange=0&GameID='+data['gameid']+\\\n",
    "                '&RangeType=0&StartPeriod=0&StartRange=0' #address for querying the data\n",
    "    response = requests.get(game_url,headers = header_data) #go get the data\n",
    "    headers = response.json()['resultSets'][0]['headers'] #get headers of data\n",
    "    gameData = response.json()['resultSets'][0]['rowSet'] #get actual data from json object\n",
    "    df = pd.DataFrame(gameData, columns=headers) #turn the data into a pandas dataframe\n",
    "    df = df[[df.columns[1], df.columns[2],df.columns[7],df.columns[9],df.columns[18]]] #there's a ton of data here, so I trim  it doown\n",
    "    df['TEAM'] = df['PLAYER1_TEAM_ABBREVIATION']\n",
    "    df = df.drop('PLAYER1_TEAM_ABBREVIATION', 1)\n",
    "    return df"
   ]
  },
  {
   "cell_type": "markdown",
   "metadata": {},
   "source": [
    "Below I show what the play by play data looks like. There's a column for event number (eventnum). These event numbers match up with the event numbers from the sportsvu data, so we will use this later for seeking out specific plays in the sportsvu data. There's a column for the event type (eventmsgtype). This column has a number describing what occured in the play. I list these number codes in the comments below. \n",
    "\n",
    "There's also short text descriptions of the plays in the home description and visitor description columns. Finally, I use the team column to represent the primary team involved in a play. \n",
    "\n",
    "I stole the idea of using play by play data from [Raji Shah](http://projects.rajivshah.com/sportvu/PBP_NBA_SportVu.html). "
   ]
  },
  {
   "cell_type": "code",
   "execution_count": 7,
   "metadata": {
    "collapsed": false
   },
   "outputs": [
    {
     "data": {
      "text/html": [
       "<div>\n",
       "<table border=\"1\" class=\"dataframe\">\n",
       "  <thead>\n",
       "    <tr style=\"text-align: right;\">\n",
       "      <th></th>\n",
       "      <th>EVENTNUM</th>\n",
       "      <th>EVENTMSGTYPE</th>\n",
       "      <th>HOMEDESCRIPTION</th>\n",
       "      <th>VISITORDESCRIPTION</th>\n",
       "      <th>TEAM</th>\n",
       "    </tr>\n",
       "  </thead>\n",
       "  <tbody>\n",
       "    <tr>\n",
       "      <th>0</th>\n",
       "      <td>0</td>\n",
       "      <td>12</td>\n",
       "      <td>None</td>\n",
       "      <td>None</td>\n",
       "      <td>None</td>\n",
       "    </tr>\n",
       "    <tr>\n",
       "      <th>1</th>\n",
       "      <td>1</td>\n",
       "      <td>10</td>\n",
       "      <td>Jump Ball Adams vs. Towns: Tip to Ibaka</td>\n",
       "      <td>None</td>\n",
       "      <td>OKC</td>\n",
       "    </tr>\n",
       "    <tr>\n",
       "      <th>2</th>\n",
       "      <td>2</td>\n",
       "      <td>5</td>\n",
       "      <td>Westbrook Out of Bounds Lost Ball Turnover (P1...</td>\n",
       "      <td>None</td>\n",
       "      <td>OKC</td>\n",
       "    </tr>\n",
       "    <tr>\n",
       "      <th>3</th>\n",
       "      <td>3</td>\n",
       "      <td>2</td>\n",
       "      <td>None</td>\n",
       "      <td>MISS Wiggins 16' Jump Shot</td>\n",
       "      <td>MIN</td>\n",
       "    </tr>\n",
       "    <tr>\n",
       "      <th>4</th>\n",
       "      <td>4</td>\n",
       "      <td>4</td>\n",
       "      <td>Westbrook REBOUND (Off:0 Def:1)</td>\n",
       "      <td>None</td>\n",
       "      <td>OKC</td>\n",
       "    </tr>\n",
       "  </tbody>\n",
       "</table>\n",
       "</div>"
      ],
      "text/plain": [
       "   EVENTNUM  EVENTMSGTYPE                                    HOMEDESCRIPTION  \\\n",
       "0         0            12                                               None   \n",
       "1         1            10            Jump Ball Adams vs. Towns: Tip to Ibaka   \n",
       "2         2             5  Westbrook Out of Bounds Lost Ball Turnover (P1...   \n",
       "3         3             2                                               None   \n",
       "4         4             4                    Westbrook REBOUND (Off:0 Def:1)   \n",
       "\n",
       "           VISITORDESCRIPTION  TEAM  \n",
       "0                        None  None  \n",
       "1                        None   OKC  \n",
       "2                        None   OKC  \n",
       "3  MISS Wiggins 16' Jump Shot   MIN  \n",
       "4                        None   OKC  "
      ]
     },
     "execution_count": 7,
     "metadata": {},
     "output_type": "execute_result"
    }
   ],
   "source": [
    "df = acquire_gameData(data)\n",
    "df.head()\n",
    "#EVENTMSGTYPE\n",
    "#1 - Make \n",
    "#2 - Miss \n",
    "#3 - Free Throw \n",
    "#4 - Rebound \n",
    "#5 - out of bounds / Turnover / Steal \n",
    "#6 - Personal Foul \n",
    "#7 - Violation \n",
    "#8 - Substitution \n",
    "#9 - Timeout \n",
    "#10 - Jumpball \n",
    "#12 - Start Q1? \n",
    "#13 - Start Q2?"
   ]
  },
  {
   "cell_type": "markdown",
   "metadata": {},
   "source": [
    "When viewing the videos, its nice to know what players are on the court. I like to depict this by labeling each player with their number. Here I create a dictionary that contains each player's id number (these are assigned by nba.com) as the key and their jersey number as the associated value. "
   ]
  },
  {
   "cell_type": "code",
   "execution_count": 8,
   "metadata": {
    "collapsed": false
   },
   "outputs": [],
   "source": [
    "player_fields = data['events'][0]['home']['players'][0].keys()\n",
    "home_players = pd.DataFrame(data=[i for i in data['events'][0]['home']['players']], columns=player_fields)\n",
    "away_players = pd.DataFrame(data=[i for i in data['events'][0]['visitor']['players']], columns=player_fields)\n",
    "players = pd.merge(home_players, away_players, how='outer')\n",
    "jerseydict = dict(zip(players.playerid.values, players.jersey.values))"
   ]
  },
  {
   "cell_type": "markdown",
   "metadata": {},
   "source": [
    "Alright, almost there! Below I write some functions for creating the actual video! First, there's a short function for placing an image of the basketball court beneath our depiction of players moving around. This image is from gmf05's github, but I will provide it on [mine](https://github.com/dvatterott/nba_project) too. \n",
    "\n",
    "Much of this code is either straight from [gmf05's github](https://github.com/gmf05/nba/blob/master/scripts/notebooks/svmovie.ipynb) or slightly modified. "
   ]
  },
  {
   "cell_type": "code",
   "execution_count": 9,
   "metadata": {
    "collapsed": false
   },
   "outputs": [],
   "source": [
    "# Animation function / loop\n",
    "def draw_court(axis):\n",
    "    import matplotlib.image as mpimg\n",
    "    img = mpimg.imread('./nba_court_T.png') #read image. I got this image from gmf05's github.\n",
    "    plt.imshow(img,extent=axis, zorder=0) #show the image. \n",
    "\n",
    "def animate(n): #matplotlib's animation function loops through a function n times that draws a different frame on each iteration\n",
    "    for i,ii in enumerate(player_xy[n]): #loop through all the players\n",
    "        player_circ[i].center = (ii[1], ii[2]) #change each players xy position\n",
    "        player_text[i].set_text(str(jerseydict[ii[0]])) #draw the text for each player. \n",
    "        player_text[i].set_x(ii[1]) #set the text x position\n",
    "        player_text[i].set_y(ii[2]) #set text y position\n",
    "    ball_circ.center = (ball_xy[n,0],ball_xy[n,1]) #change ball xy position\n",
    "    ball_circ.radius = 1.1 #i could change the size of the ball according to its height, but chose to keep this constant\n",
    "    return tuple(player_text) + tuple(player_circ) + (ball_circ,)\n",
    "\n",
    "def init(): #this is what matplotlib's animation will create before drawing the first frame. \n",
    "    for i in range(10): #set up players\n",
    "        player_text[i].set_text('')\n",
    "        ax.add_patch(player_circ[i])\n",
    "    ax.add_patch(ball_circ) #create ball\n",
    "    ax.axis('off') #turn off axis\n",
    "    dx = 5\n",
    "    plt.xlim([0-dx,100+dx]) #set axis\n",
    "    plt.ylim([0-dx,50+dx])  \n",
    "    return tuple(player_text) + tuple(player_circ) + (ball_circ,)"
   ]
  },
  {
   "cell_type": "markdown",
   "metadata": {},
   "source": [
    "The event that I want to depict is event 41. In this event, Karl Anthony Towns misses a shot, grabs his own rebounds, and puts it back in."
   ]
  },
  {
   "cell_type": "code",
   "execution_count": 10,
   "metadata": {
    "collapsed": false
   },
   "outputs": [
    {
     "data": {
      "text/html": [
       "<div>\n",
       "<table border=\"1\" class=\"dataframe\">\n",
       "  <thead>\n",
       "    <tr style=\"text-align: right;\">\n",
       "      <th></th>\n",
       "      <th>EVENTNUM</th>\n",
       "      <th>EVENTMSGTYPE</th>\n",
       "      <th>HOMEDESCRIPTION</th>\n",
       "      <th>VISITORDESCRIPTION</th>\n",
       "      <th>TEAM</th>\n",
       "    </tr>\n",
       "  </thead>\n",
       "  <tbody>\n",
       "    <tr>\n",
       "      <th>37</th>\n",
       "      <td>41</td>\n",
       "      <td>1</td>\n",
       "      <td>None</td>\n",
       "      <td>Towns 1' Layup (2 PTS)</td>\n",
       "      <td>MIN</td>\n",
       "    </tr>\n",
       "  </tbody>\n",
       "</table>\n",
       "</div>"
      ],
      "text/plain": [
       "    EVENTNUM  EVENTMSGTYPE HOMEDESCRIPTION      VISITORDESCRIPTION TEAM\n",
       "37        41             1            None  Towns 1' Layup (2 PTS)  MIN"
      ]
     },
     "execution_count": 10,
     "metadata": {},
     "output_type": "execute_result"
    }
   ],
   "source": [
    "df[37:38]"
   ]
  },
  {
   "cell_type": "markdown",
   "metadata": {},
   "source": [
    "We need to find where event 41 is in the sportsvu data structure, so I created a function for finding the location of a particular event. I then create a matrix with position data for the ball and a matrix with position data for each player for event 41. "
   ]
  },
  {
   "cell_type": "code",
   "execution_count": 11,
   "metadata": {
    "collapsed": true
   },
   "outputs": [],
   "source": [
    "#the order of events does not match up, so we have to use the eventIds. This loop finds the correct event for a given id#.\n",
    "search_id = 41\n",
    "def find_moment(search_id):\n",
    "    for i,events in enumerate(data['events']):\n",
    "        if events['eventId'] == str(search_id):\n",
    "            finder = i\n",
    "            break\n",
    "    return finder\n",
    "\n",
    "event_num = find_moment(search_id) \n",
    "ball_xy = np.array([x[5][0][2:5] for x in data['events'][event_num]['moments']]) #create matrix of ball data\n",
    "player_xy = np.array([np.array(x[5][1:])[:,1:4] for x in data['events'][event_num]['moments']]) #create matrix of player data"
   ]
  },
  {
   "cell_type": "markdown",
   "metadata": {},
   "source": [
    "Okay. We're actually there! Now we get to create the video. We have to create figure and axes objects for the animation to draw on. Then I place a picture of the basketball court on this plot. Finally, I create the circle and text objects that will move around throughout the video (depicting the ball and players). The location of these objects are then updated in the animation loop."
   ]
  },
  {
   "cell_type": "code",
   "execution_count": 12,
   "metadata": {
    "collapsed": true
   },
   "outputs": [],
   "source": [
    "import matplotlib.animation as animation\n",
    "\n",
    "fig = plt.figure(figsize=(15,7.5)) #create figure object\n",
    "ax = plt.gca() #create axis object\n",
    "\n",
    "draw_court([0,100,0,50]) #draw the court\n",
    "player_text = range(10) #create player text vector\n",
    "player_circ = range(10) #create player circle vector\n",
    "ball_circ = plt.Circle((0,0), 1.1, color=[1, 0.4, 0]) #create circle object for bal\n",
    "for i in range(10): #create circle object and text object for each player\n",
    "    col=['w','k'] if i<5 else ['k','w'] #color scheme\n",
    "    player_circ[i] = plt.Circle((0,0), 2.2, facecolor=col[0],edgecolor='k') #player circle\n",
    "    player_text[i] = ax.text(0,0,'',color=col[1],ha='center',va='center') #player jersey # (text)\n",
    "\n",
    "ani = animation.FuncAnimation(fig, animate, frames=np.arange(0,np.size(ball_xy,0)), init_func=init, blit=True, interval=5, repeat=False,\\\n",
    "                             save_count=0) #function for making video\n",
    "ani.save('Event_%d.mp4' % (search_id),dpi=100,fps=25) #function for saving video\n",
    "plt.close('all') #close the plot"
   ]
  }
 ],
 "metadata": {
  "kernelspec": {
   "display_name": "Python 2",
   "language": "python",
   "name": "python2"
  },
  "language_info": {
   "codemirror_mode": {
    "name": "ipython",
    "version": 2
   },
   "file_extension": ".py",
   "mimetype": "text/x-python",
   "name": "python",
   "nbconvert_exporter": "python",
   "pygments_lexer": "ipython2",
   "version": "2.7.11"
  }
 },
 "nbformat": 4,
 "nbformat_minor": 0
}
